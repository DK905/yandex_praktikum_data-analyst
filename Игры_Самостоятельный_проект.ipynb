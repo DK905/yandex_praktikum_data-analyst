{
  "nbformat": 4,
  "nbformat_minor": 0,
  "metadata": {
    "kernelspec": {
      "display_name": "Python 3",
      "language": "python",
      "name": "python3"
    },
    "language_info": {
      "codemirror_mode": {
        "name": "ipython",
        "version": 3
      },
      "file_extension": ".py",
      "mimetype": "text/x-python",
      "name": "python",
      "nbconvert_exporter": "python",
      "pygments_lexer": "ipython3",
      "version": "3.7.8"
    },
    "toc": {
      "base_numbering": 1,
      "nav_menu": {},
      "number_sections": true,
      "sideBar": true,
      "skip_h1_title": true,
      "title_cell": "Table of Contents",
      "title_sidebar": "Contents",
      "toc_cell": false,
      "toc_position": {},
      "toc_section_display": true,
      "toc_window_display": false
    },
    "colab": {
      "name": "Игры. Самостоятельный проект.ipynb",
      "provenance": [],
      "collapsed_sections": [],
      "include_colab_link": true
    }
  },
  "cells": [
    {
      "cell_type": "markdown",
      "metadata": {
        "id": "view-in-github",
        "colab_type": "text"
      },
      "source": [
        "<a href=\"https://colab.research.google.com/github/DK905/yandex_praktikum_data-analyst/blob/main/%D0%98%D0%B3%D1%80%D1%8B_%D0%A1%D0%B0%D0%BC%D0%BE%D1%81%D1%82%D0%BE%D1%8F%D1%82%D0%B5%D0%BB%D1%8C%D0%BD%D1%8B%D0%B9_%D0%BF%D1%80%D0%BE%D0%B5%D0%BA%D1%82.ipynb\" target=\"_parent\"><img src=\"https://colab.research.google.com/assets/colab-badge.svg\" alt=\"Open In Colab\"/></a>"
      ]
    },
    {
      "cell_type": "markdown",
      "metadata": {
        "id": "jeccwxJtIqdr"
      },
      "source": [
        "# Описание проекта"
      ]
    },
    {
      "cell_type": "markdown",
      "metadata": {
        "id": "AkKAUoOaIqds"
      },
      "source": [
        "Интернет-магазин \"Стримчик\" продаёт по всему миру компьютерные игры, и для повышения продаж ему необходимо знать закономерности, определяющие успешность игры. Это позволит сделать ставку на потенциально популярный продукт и спланировать рекламные кампании.\n",
        "\n",
        "Для выявления закономерностей, используются данные из открытых источников:  доступны исторические данные о продажах игр, оценки пользователей и экспертов, жанры и платформы (например, Xbox или PlayStation). Данные доступны до 2016 года, но могут быть неполными в случае последнего года. Для них нужно отработать принцип обработки: не важно, прогнозируются ли продажи на 2017 год по данным 2016-го, или же 2027-й — по данным 2026 года, собранная схема анализа позволит осуществлять обобщённые исследования.\n",
        "\n",
        "Данные представлены в датасете `games.csv`, колонкам которого соответствует следующая информация:  \n",
        "- `Name` — название игры;  \n",
        "- `Platform` — платформа;  \n",
        "- `Year_of_Release` — год выпуска;  \n",
        "- `Genre` — жанр игры;  \n",
        "- `NA_sales` — продажи в Северной Америке (миллионы долларов);  \n",
        "- `EU_sales` — продажи в Европе (миллионы долларов);  \n",
        "- `JP_sales` — продажи в Японии (миллионы долларов);  \n",
        "- `Other_sales` — продажи в других странах (миллионы долларов);  \n",
        "- `Critic_Score` — оценка критиков (от 0 до 100);  \n",
        "- `User_Score` — оценка пользователей (от 0 до 10);  \n",
        "- `Rating` — рейтинг от организации ESRB (англ. Entertainment Software Rating Board). Эта ассоциация определяет рейтинг компьютерных игр и присваивает им подходящую возрастную категорию."
      ]
    },
    {
      "cell_type": "markdown",
      "metadata": {
        "id": "41li__X4Iqds"
      },
      "source": [
        "# Этап 0. Настройка среды"
      ]
    },
    {
      "cell_type": "code",
      "metadata": {
        "id": "mESvGoFzIqdt"
      },
      "source": [
        "# Тип вывода результатов в jupiter\n",
        "from IPython.core.interactiveshell import InteractiveShell\n",
        "\n",
        "jup_conds = ['all',                # Показывать все вызовы\n",
        "             'last',               # Показывать последнюю общность вызовов\n",
        "             'last_expr',          # Показывать самый последний вызов\n",
        "             'none',               # Ничего не показывать\n",
        "             'last_expr_or_assign' # Показывать последний вызов или присваивание\n",
        "            ]\n",
        "\n",
        "InteractiveShell.ast_node_interactivity = jup_conds[0]"
      ],
      "execution_count": null,
      "outputs": []
    },
    {
      "cell_type": "markdown",
      "metadata": {
        "id": "2SLp4vNRIqdt"
      },
      "source": [
        "# Этап 1. Загрузка данных и настройка датасета"
      ]
    },
    {
      "cell_type": "markdown",
      "metadata": {
        "id": "aZVpYhxDIqdt"
      },
      "source": [
        "Импортируем `pandas` для обработки датасета, `numpy` для некоторых промежуточных действий, и библиотеку `stats` из модуля `scipy` - она нужна для грамотного и качественного проведения статистических тестов"
      ]
    },
    {
      "cell_type": "code",
      "metadata": {
        "id": "Q8yQsgJKIqdu"
      },
      "source": [
        "import pandas as pd\n",
        "import numpy as np\n",
        "from scipy import stats as st"
      ],
      "execution_count": null,
      "outputs": []
    },
    {
      "cell_type": "markdown",
      "metadata": {
        "id": "wx6EhEEgIqdu"
      },
      "source": [
        "Загрузим датасет исторических данных о каждой игре: её продажи, оценки пользователей и критиков, жанры и платформы.  \n",
        "Так как данные получены из открытых источников, то к ним нужно внимательно присматриваться на предмет ошибок: некоторые источники могут собирать только часть данных об игре, а в некоторых возможно повреждение собранных данных."
      ]
    },
    {
      "cell_type": "code",
      "metadata": {
        "id": "Zfss5Oj9Iqdv"
      },
      "source": [
        "df = pd.read_csv('/datasets/games.csv')"
      ],
      "execution_count": null,
      "outputs": []
    },
    {
      "cell_type": "markdown",
      "metadata": {
        "id": "PFVXIjg0Iqdv"
      },
      "source": [
        "В датасете названия столбцов не очень удобны для работы - критерий осмысленности соблюдён, но нет единого регистра.  \n",
        "Приведём все названия столбцов к нижнему регистру."
      ]
    },
    {
      "cell_type": "code",
      "metadata": {
        "scrolled": false,
        "id": "JAu9e8IkIqdy",
        "outputId": "bd7fee4d-8599-43ca-b7d9-10d102ca4c9d"
      },
      "source": [
        "df.columns = [col.lower() for col in df.columns]\n",
        "df.head()"
      ],
      "execution_count": null,
      "outputs": [
        {
          "output_type": "execute_result",
          "data": {
            "text/html": [
              "<div>\n",
              "<style scoped>\n",
              "    .dataframe tbody tr th:only-of-type {\n",
              "        vertical-align: middle;\n",
              "    }\n",
              "\n",
              "    .dataframe tbody tr th {\n",
              "        vertical-align: top;\n",
              "    }\n",
              "\n",
              "    .dataframe thead th {\n",
              "        text-align: right;\n",
              "    }\n",
              "</style>\n",
              "<table border=\"1\" class=\"dataframe\">\n",
              "  <thead>\n",
              "    <tr style=\"text-align: right;\">\n",
              "      <th></th>\n",
              "      <th>name</th>\n",
              "      <th>platform</th>\n",
              "      <th>year_of_release</th>\n",
              "      <th>genre</th>\n",
              "      <th>na_sales</th>\n",
              "      <th>eu_sales</th>\n",
              "      <th>jp_sales</th>\n",
              "      <th>other_sales</th>\n",
              "      <th>critic_score</th>\n",
              "      <th>user_score</th>\n",
              "      <th>rating</th>\n",
              "    </tr>\n",
              "  </thead>\n",
              "  <tbody>\n",
              "    <tr>\n",
              "      <td>0</td>\n",
              "      <td>Wii Sports</td>\n",
              "      <td>Wii</td>\n",
              "      <td>2006.0</td>\n",
              "      <td>Sports</td>\n",
              "      <td>41.36</td>\n",
              "      <td>28.96</td>\n",
              "      <td>3.77</td>\n",
              "      <td>8.45</td>\n",
              "      <td>76.0</td>\n",
              "      <td>8</td>\n",
              "      <td>E</td>\n",
              "    </tr>\n",
              "    <tr>\n",
              "      <td>1</td>\n",
              "      <td>Super Mario Bros.</td>\n",
              "      <td>NES</td>\n",
              "      <td>1985.0</td>\n",
              "      <td>Platform</td>\n",
              "      <td>29.08</td>\n",
              "      <td>3.58</td>\n",
              "      <td>6.81</td>\n",
              "      <td>0.77</td>\n",
              "      <td>NaN</td>\n",
              "      <td>NaN</td>\n",
              "      <td>NaN</td>\n",
              "    </tr>\n",
              "    <tr>\n",
              "      <td>2</td>\n",
              "      <td>Mario Kart Wii</td>\n",
              "      <td>Wii</td>\n",
              "      <td>2008.0</td>\n",
              "      <td>Racing</td>\n",
              "      <td>15.68</td>\n",
              "      <td>12.76</td>\n",
              "      <td>3.79</td>\n",
              "      <td>3.29</td>\n",
              "      <td>82.0</td>\n",
              "      <td>8.3</td>\n",
              "      <td>E</td>\n",
              "    </tr>\n",
              "    <tr>\n",
              "      <td>3</td>\n",
              "      <td>Wii Sports Resort</td>\n",
              "      <td>Wii</td>\n",
              "      <td>2009.0</td>\n",
              "      <td>Sports</td>\n",
              "      <td>15.61</td>\n",
              "      <td>10.93</td>\n",
              "      <td>3.28</td>\n",
              "      <td>2.95</td>\n",
              "      <td>80.0</td>\n",
              "      <td>8</td>\n",
              "      <td>E</td>\n",
              "    </tr>\n",
              "    <tr>\n",
              "      <td>4</td>\n",
              "      <td>Pokemon Red/Pokemon Blue</td>\n",
              "      <td>GB</td>\n",
              "      <td>1996.0</td>\n",
              "      <td>Role-Playing</td>\n",
              "      <td>11.27</td>\n",
              "      <td>8.89</td>\n",
              "      <td>10.22</td>\n",
              "      <td>1.00</td>\n",
              "      <td>NaN</td>\n",
              "      <td>NaN</td>\n",
              "      <td>NaN</td>\n",
              "    </tr>\n",
              "  </tbody>\n",
              "</table>\n",
              "</div>"
            ],
            "text/plain": [
              "                       name platform  year_of_release         genre  na_sales  \\\n",
              "0                Wii Sports      Wii           2006.0        Sports     41.36   \n",
              "1         Super Mario Bros.      NES           1985.0      Platform     29.08   \n",
              "2            Mario Kart Wii      Wii           2008.0        Racing     15.68   \n",
              "3         Wii Sports Resort      Wii           2009.0        Sports     15.61   \n",
              "4  Pokemon Red/Pokemon Blue       GB           1996.0  Role-Playing     11.27   \n",
              "\n",
              "   eu_sales  jp_sales  other_sales  critic_score user_score rating  \n",
              "0     28.96      3.77         8.45          76.0          8      E  \n",
              "1      3.58      6.81         0.77           NaN        NaN    NaN  \n",
              "2     12.76      3.79         3.29          82.0        8.3      E  \n",
              "3     10.93      3.28         2.95          80.0          8      E  \n",
              "4      8.89     10.22         1.00           NaN        NaN    NaN  "
            ]
          },
          "metadata": {
            "tags": []
          },
          "execution_count": 4
        }
      ]
    },
    {
      "cell_type": "markdown",
      "metadata": {
        "id": "2Z1340QbIqdz"
      },
      "source": [
        "# Этап 2. Предобработка данных"
      ]
    },
    {
      "cell_type": "markdown",
      "metadata": {
        "id": "VBA-L_9AIqdz"
      },
      "source": [
        "Начать предобработку данных стоит с просмотра информации о датафрейме."
      ]
    },
    {
      "cell_type": "code",
      "metadata": {
        "scrolled": true,
        "id": "8RbarJktIqdz",
        "outputId": "01e7334f-1175-447f-e3bf-7ca2aa32e0cb"
      },
      "source": [
        "df.info()"
      ],
      "execution_count": null,
      "outputs": [
        {
          "output_type": "stream",
          "text": [
            "<class 'pandas.core.frame.DataFrame'>\n",
            "RangeIndex: 16715 entries, 0 to 16714\n",
            "Data columns (total 11 columns):\n",
            "name               16713 non-null object\n",
            "platform           16715 non-null object\n",
            "year_of_release    16446 non-null float64\n",
            "genre              16713 non-null object\n",
            "na_sales           16715 non-null float64\n",
            "eu_sales           16715 non-null float64\n",
            "jp_sales           16715 non-null float64\n",
            "other_sales        16715 non-null float64\n",
            "critic_score       8137 non-null float64\n",
            "user_score         10014 non-null object\n",
            "rating             9949 non-null object\n",
            "dtypes: float64(6), object(5)\n",
            "memory usage: 1.4+ MB\n"
          ],
          "name": "stdout"
        }
      ]
    },
    {
      "cell_type": "markdown",
      "metadata": {
        "id": "RCdVJCP_Iqd0"
      },
      "source": [
        "Во многих столбцах датафрейма есть пропуски, а некоторые колонки и вовсе имеют неправильный тип."
      ]
    },
    {
      "cell_type": "markdown",
      "metadata": {
        "id": "ODdWs9SdIqd0"
      },
      "source": [
        "## Предварительная аналитика"
      ]
    },
    {
      "cell_type": "markdown",
      "metadata": {
        "id": "QSUOA1-NIqd0"
      },
      "source": [
        "Получим количество пропусков для каждого столбца. Так можно заранее выявить возможные ошибки и неточности обработки."
      ]
    },
    {
      "cell_type": "code",
      "metadata": {
        "scrolled": true,
        "id": "HtHGRLOvIqd0",
        "outputId": "d5d20342-017d-481a-edbd-03dff6f102a3"
      },
      "source": [
        "df.isna().sum(axis=0)"
      ],
      "execution_count": null,
      "outputs": [
        {
          "output_type": "execute_result",
          "data": {
            "text/plain": [
              "name                  2\n",
              "platform              0\n",
              "year_of_release     269\n",
              "genre                 2\n",
              "na_sales              0\n",
              "eu_sales              0\n",
              "jp_sales              0\n",
              "other_sales           0\n",
              "critic_score       8578\n",
              "user_score         6701\n",
              "rating             6766\n",
              "dtype: int64"
            ]
          },
          "metadata": {
            "tags": []
          },
          "execution_count": 6
        }
      ]
    },
    {
      "cell_type": "markdown",
      "metadata": {
        "id": "rDxb1NsnIqd1"
      },
      "source": [
        "Аналогично, выявим наличие технической пометки '**TBD**' - это сокращение от *To Be Determined*. Оно служит для отметки неясностей или пропусков, которые надо заполнить."
      ]
    },
    {
      "cell_type": "code",
      "metadata": {
        "id": "AfvnbZtLIqd1",
        "outputId": "41fe4326-9d4f-4a24-9810-fab850e99b27"
      },
      "source": [
        "df[df.isin(['tbd'])].count()"
      ],
      "execution_count": null,
      "outputs": [
        {
          "output_type": "execute_result",
          "data": {
            "text/plain": [
              "name                  0\n",
              "platform              0\n",
              "year_of_release       0\n",
              "genre                 0\n",
              "na_sales              0\n",
              "eu_sales              0\n",
              "jp_sales              0\n",
              "other_sales           0\n",
              "critic_score          0\n",
              "user_score         2424\n",
              "rating                0\n",
              "dtype: int64"
            ]
          },
          "metadata": {
            "tags": []
          },
          "execution_count": 7
        }
      ]
    },
    {
      "cell_type": "markdown",
      "metadata": {
        "id": "FNU8MtxuIqd3"
      },
      "source": [
        "По количеству пропусков, столбцы можно разделить на несколько групп:  \n",
        "1) **Нормальные**. Пропусков в них нет, и в предобработке они не нуждаются. Сюда можно отнести столбцы `platform`, `na_sales`, `eu_sales`, `jp_sales` и `other_sales`;  \n",
        "2) **Запланированные**. В этих столбцах встречается техническая пометка неясности `tbd`. Она означает, что информации по данным ещё нет. Сюда относится столбец `user_score`;  \n",
        "3) **Подозрительные**. В этих столбцах могут встречаться пропуски, которые нужно заполнять в зависимости от данных. Сюда относятся столбцы `critic_score`, `user_score`, и `rating` - не у каждой игры может быть оценка от критиков или пользователей, равно как и рейтинг игры: это может быть связано как с её низкой популярностью или недоступностью в большинстве регионов, так и с отсутствием нужных данных или ошибке в базе данных;  \n",
        "4) **Аномальные**. В этих столбцах пропусков быть не должно, но они есть. Скорее всего, виновата нехватка данных из открытых источников, но обработать их нужно. К этим столбцам относятся `year_of_release`, `name` и `genre` - каждая игра была когда-либо создана, как-нибудь называется, и может быть отнесена к какому-либо существующему или новому жанру."
      ]
    },
    {
      "cell_type": "markdown",
      "metadata": {
        "id": "MmA_wVMOIqd3"
      },
      "source": [
        "Перед заполнением пропусков, следует проанализировать данные. Например, уточнить уникальность.  \n",
        "Столбцы с малым количеством уникальных значений можно просмотреть вручную и найти оптимальный способ заполнения пропусков, а для колонок с большим количеством - выбирать способ по назначению столбца с данными."
      ]
    },
    {
      "cell_type": "code",
      "metadata": {
        "id": "bHoQEGwHIqd3",
        "outputId": "b5b5ff9c-3488-4809-fe51-05e93933e77d"
      },
      "source": [
        "unique_start = df.nunique()\n",
        "unique_start"
      ],
      "execution_count": null,
      "outputs": [
        {
          "output_type": "execute_result",
          "data": {
            "text/plain": [
              "name               11559\n",
              "platform              31\n",
              "year_of_release       37\n",
              "genre                 12\n",
              "na_sales             402\n",
              "eu_sales             307\n",
              "jp_sales             244\n",
              "other_sales          155\n",
              "critic_score          82\n",
              "user_score            96\n",
              "rating                 8\n",
              "dtype: int64"
            ]
          },
          "metadata": {
            "tags": []
          },
          "execution_count": 8
        }
      ]
    },
    {
      "cell_type": "markdown",
      "metadata": {
        "id": "GVxQBHWJIqd4"
      },
      "source": [
        "## Обработка аномальной группы"
      ]
    },
    {
      "cell_type": "markdown",
      "metadata": {
        "id": "S03-EOk1Iqd4"
      },
      "source": [
        "### Жанр и имя"
      ]
    },
    {
      "cell_type": "markdown",
      "metadata": {
        "id": "W91oTsAxIqd4"
      },
      "source": [
        "Начать анализ можно со столбцов аномальной группы - столбца жанра и столбца имени. Так как в выборке есть лишь 12 уникальных жанров, то начать стоит с них.  \n",
        "Порядок же следующий:  \n",
        "- Просмотреть все возможные жанры в выборке. Так можно найти смысловые дубликаты или что-то необычное;  \n",
        "- Вывести число записей для необычного критерия;  \n",
        "- Определить значимость проблемы и решить её."
      ]
    },
    {
      "cell_type": "code",
      "metadata": {
        "id": "ppBuFDL_Iqd4",
        "outputId": "4f1ee99d-2268-405d-e527-a746f3bb24f8"
      },
      "source": [
        "df['genre'].unique().tolist()"
      ],
      "execution_count": null,
      "outputs": [
        {
          "output_type": "execute_result",
          "data": {
            "text/plain": [
              "['Sports',\n",
              " 'Platform',\n",
              " 'Racing',\n",
              " 'Role-Playing',\n",
              " 'Puzzle',\n",
              " 'Misc',\n",
              " 'Shooter',\n",
              " 'Simulation',\n",
              " 'Action',\n",
              " 'Fighting',\n",
              " 'Adventure',\n",
              " 'Strategy',\n",
              " nan]"
            ]
          },
          "metadata": {
            "tags": []
          },
          "execution_count": 9
        }
      ]
    },
    {
      "cell_type": "markdown",
      "metadata": {
        "id": "FN5b825zIqd4"
      },
      "source": [
        "Проблема с жанрами обнаружена - здесь нет повторов или других необычностей, но есть лишь самые обычные пропуски.  \n",
        "Количество таких записей уже известно, но его лучше проверить."
      ]
    },
    {
      "cell_type": "code",
      "metadata": {
        "id": "ns5O03h6Iqd5",
        "outputId": "ad9d1a64-e1ed-4206-8a3f-d524324b03bc"
      },
      "source": [
        "len(df[df['genre'].isna()])"
      ],
      "execution_count": null,
      "outputs": [
        {
          "output_type": "execute_result",
          "data": {
            "text/plain": [
              "2"
            ]
          },
          "metadata": {
            "tags": []
          },
          "execution_count": 10
        }
      ]
    },
    {
      "cell_type": "markdown",
      "metadata": {
        "id": "daM6EMviIqd5"
      },
      "source": [
        "Всего две записи без жанра, их можно вывести и проанализировать вручную."
      ]
    },
    {
      "cell_type": "code",
      "metadata": {
        "id": "KnBjj5BwIqd5",
        "outputId": "14e27b81-5514-4e0b-e09b-3e6147c35638"
      },
      "source": [
        "df[df['genre'].isna()]"
      ],
      "execution_count": null,
      "outputs": [
        {
          "output_type": "execute_result",
          "data": {
            "text/html": [
              "<div>\n",
              "<style scoped>\n",
              "    .dataframe tbody tr th:only-of-type {\n",
              "        vertical-align: middle;\n",
              "    }\n",
              "\n",
              "    .dataframe tbody tr th {\n",
              "        vertical-align: top;\n",
              "    }\n",
              "\n",
              "    .dataframe thead th {\n",
              "        text-align: right;\n",
              "    }\n",
              "</style>\n",
              "<table border=\"1\" class=\"dataframe\">\n",
              "  <thead>\n",
              "    <tr style=\"text-align: right;\">\n",
              "      <th></th>\n",
              "      <th>name</th>\n",
              "      <th>platform</th>\n",
              "      <th>year_of_release</th>\n",
              "      <th>genre</th>\n",
              "      <th>na_sales</th>\n",
              "      <th>eu_sales</th>\n",
              "      <th>jp_sales</th>\n",
              "      <th>other_sales</th>\n",
              "      <th>critic_score</th>\n",
              "      <th>user_score</th>\n",
              "      <th>rating</th>\n",
              "    </tr>\n",
              "  </thead>\n",
              "  <tbody>\n",
              "    <tr>\n",
              "      <td>659</td>\n",
              "      <td>NaN</td>\n",
              "      <td>GEN</td>\n",
              "      <td>1993.0</td>\n",
              "      <td>NaN</td>\n",
              "      <td>1.78</td>\n",
              "      <td>0.53</td>\n",
              "      <td>0.00</td>\n",
              "      <td>0.08</td>\n",
              "      <td>NaN</td>\n",
              "      <td>NaN</td>\n",
              "      <td>NaN</td>\n",
              "    </tr>\n",
              "    <tr>\n",
              "      <td>14244</td>\n",
              "      <td>NaN</td>\n",
              "      <td>GEN</td>\n",
              "      <td>1993.0</td>\n",
              "      <td>NaN</td>\n",
              "      <td>0.00</td>\n",
              "      <td>0.00</td>\n",
              "      <td>0.03</td>\n",
              "      <td>0.00</td>\n",
              "      <td>NaN</td>\n",
              "      <td>NaN</td>\n",
              "      <td>NaN</td>\n",
              "    </tr>\n",
              "  </tbody>\n",
              "</table>\n",
              "</div>"
            ],
            "text/plain": [
              "      name platform  year_of_release genre  na_sales  eu_sales  jp_sales  \\\n",
              "659    NaN      GEN           1993.0   NaN      1.78      0.53      0.00   \n",
              "14244  NaN      GEN           1993.0   NaN      0.00      0.00      0.03   \n",
              "\n",
              "       other_sales  critic_score user_score rating  \n",
              "659           0.08           NaN        NaN    NaN  \n",
              "14244         0.00           NaN        NaN    NaN  "
            ]
          },
          "metadata": {
            "tags": []
          },
          "execution_count": 11
        }
      ]
    },
    {
      "cell_type": "markdown",
      "metadata": {
        "id": "D_h6Av87Iqd5"
      },
      "source": [
        "А вот и связь с другим столбцом аномальной группы - именами. Попавшиеся записи и есть причина пропусков в этих двух значимых столбцах. Скорее всего, это произошло из-за некой ошибки в данных из открытых источников. \n",
        "\n",
        "Так как 2 записи - крайне незначительное количество относительно всего датасета на 16 715 записей, их можно убрать из выборки, ведь их влияние на исследование крайне незначительно."
      ]
    },
    {
      "cell_type": "code",
      "metadata": {
        "scrolled": true,
        "id": "VH_1_-ihIqd6",
        "outputId": "22acb70b-5402-4cef-a0e5-d5d30672b752"
      },
      "source": [
        "df.dropna(axis='index', how='any', subset=['genre'], inplace=True)\n",
        "\n",
        "# Посмотрим, сколько записей без жанра\n",
        "len(df[df['genre'].isna()])\n",
        "# Отлично, их не осталось"
      ],
      "execution_count": null,
      "outputs": [
        {
          "output_type": "execute_result",
          "data": {
            "text/plain": [
              "0"
            ]
          },
          "metadata": {
            "tags": []
          },
          "execution_count": 12
        }
      ]
    },
    {
      "cell_type": "markdown",
      "metadata": {
        "id": "sttEhnmoIqd6"
      },
      "source": [
        "### Год выпуска"
      ]
    },
    {
      "cell_type": "markdown",
      "metadata": {
        "id": "PApNGmA_Iqd6"
      },
      "source": [
        "Теперь, осталось разобраться с отсутствием года релиза. Его отсутствие также может быть вызвано ошибкой самих данных. Важно также обратить внимание на тот факт, что столбец года имеет тип `float64` - это произошло из-за наличия в нём пропусков.\n",
        "\n",
        "Для начала, получим все записи без года релиза - может быть, закономерность обнаружит себя сразу."
      ]
    },
    {
      "cell_type": "code",
      "metadata": {
        "id": "vtQWPxQwIqd6",
        "outputId": "794eeaba-e5e3-4493-c7a6-62e9114e06ff"
      },
      "source": [
        "df[df['year_of_release'].isna()].head()"
      ],
      "execution_count": null,
      "outputs": [
        {
          "output_type": "execute_result",
          "data": {
            "text/html": [
              "<div>\n",
              "<style scoped>\n",
              "    .dataframe tbody tr th:only-of-type {\n",
              "        vertical-align: middle;\n",
              "    }\n",
              "\n",
              "    .dataframe tbody tr th {\n",
              "        vertical-align: top;\n",
              "    }\n",
              "\n",
              "    .dataframe thead th {\n",
              "        text-align: right;\n",
              "    }\n",
              "</style>\n",
              "<table border=\"1\" class=\"dataframe\">\n",
              "  <thead>\n",
              "    <tr style=\"text-align: right;\">\n",
              "      <th></th>\n",
              "      <th>name</th>\n",
              "      <th>platform</th>\n",
              "      <th>year_of_release</th>\n",
              "      <th>genre</th>\n",
              "      <th>na_sales</th>\n",
              "      <th>eu_sales</th>\n",
              "      <th>jp_sales</th>\n",
              "      <th>other_sales</th>\n",
              "      <th>critic_score</th>\n",
              "      <th>user_score</th>\n",
              "      <th>rating</th>\n",
              "    </tr>\n",
              "  </thead>\n",
              "  <tbody>\n",
              "    <tr>\n",
              "      <td>183</td>\n",
              "      <td>Madden NFL 2004</td>\n",
              "      <td>PS2</td>\n",
              "      <td>NaN</td>\n",
              "      <td>Sports</td>\n",
              "      <td>4.26</td>\n",
              "      <td>0.26</td>\n",
              "      <td>0.01</td>\n",
              "      <td>0.71</td>\n",
              "      <td>94.0</td>\n",
              "      <td>8.5</td>\n",
              "      <td>E</td>\n",
              "    </tr>\n",
              "    <tr>\n",
              "      <td>377</td>\n",
              "      <td>FIFA Soccer 2004</td>\n",
              "      <td>PS2</td>\n",
              "      <td>NaN</td>\n",
              "      <td>Sports</td>\n",
              "      <td>0.59</td>\n",
              "      <td>2.36</td>\n",
              "      <td>0.04</td>\n",
              "      <td>0.51</td>\n",
              "      <td>84.0</td>\n",
              "      <td>6.4</td>\n",
              "      <td>E</td>\n",
              "    </tr>\n",
              "    <tr>\n",
              "      <td>456</td>\n",
              "      <td>LEGO Batman: The Videogame</td>\n",
              "      <td>Wii</td>\n",
              "      <td>NaN</td>\n",
              "      <td>Action</td>\n",
              "      <td>1.80</td>\n",
              "      <td>0.97</td>\n",
              "      <td>0.00</td>\n",
              "      <td>0.29</td>\n",
              "      <td>74.0</td>\n",
              "      <td>7.9</td>\n",
              "      <td>E10+</td>\n",
              "    </tr>\n",
              "    <tr>\n",
              "      <td>475</td>\n",
              "      <td>wwe Smackdown vs. Raw 2006</td>\n",
              "      <td>PS2</td>\n",
              "      <td>NaN</td>\n",
              "      <td>Fighting</td>\n",
              "      <td>1.57</td>\n",
              "      <td>1.02</td>\n",
              "      <td>0.00</td>\n",
              "      <td>0.41</td>\n",
              "      <td>NaN</td>\n",
              "      <td>NaN</td>\n",
              "      <td>NaN</td>\n",
              "    </tr>\n",
              "    <tr>\n",
              "      <td>609</td>\n",
              "      <td>Space Invaders</td>\n",
              "      <td>2600</td>\n",
              "      <td>NaN</td>\n",
              "      <td>Shooter</td>\n",
              "      <td>2.36</td>\n",
              "      <td>0.14</td>\n",
              "      <td>0.00</td>\n",
              "      <td>0.03</td>\n",
              "      <td>NaN</td>\n",
              "      <td>NaN</td>\n",
              "      <td>NaN</td>\n",
              "    </tr>\n",
              "  </tbody>\n",
              "</table>\n",
              "</div>"
            ],
            "text/plain": [
              "                           name platform  year_of_release     genre  na_sales  \\\n",
              "183             Madden NFL 2004      PS2              NaN    Sports      4.26   \n",
              "377            FIFA Soccer 2004      PS2              NaN    Sports      0.59   \n",
              "456  LEGO Batman: The Videogame      Wii              NaN    Action      1.80   \n",
              "475  wwe Smackdown vs. Raw 2006      PS2              NaN  Fighting      1.57   \n",
              "609              Space Invaders     2600              NaN   Shooter      2.36   \n",
              "\n",
              "     eu_sales  jp_sales  other_sales  critic_score user_score rating  \n",
              "183      0.26      0.01         0.71          94.0        8.5      E  \n",
              "377      2.36      0.04         0.51          84.0        6.4      E  \n",
              "456      0.97      0.00         0.29          74.0        7.9   E10+  \n",
              "475      1.02      0.00         0.41           NaN        NaN    NaN  \n",
              "609      0.14      0.00         0.03           NaN        NaN    NaN  "
            ]
          },
          "metadata": {
            "tags": []
          },
          "execution_count": 13
        }
      ]
    },
    {
      "cell_type": "markdown",
      "metadata": {
        "id": "-gWwrTo_Iqd7"
      },
      "source": [
        "Увы, причину отсутствия года нельзя назвать в лоб - данные выглядят самыми обычными. Быть может, нам повезло и какой-то один год не попал в выборку. Названия игр говорят об обратном, но нужно проверить эту возможность."
      ]
    },
    {
      "cell_type": "code",
      "metadata": {
        "id": "9ug3YN-gIqd7",
        "outputId": "2ee217cc-e97c-4010-c790-76abb7cdd89d"
      },
      "source": [
        "# Фактическое количество разных годов, но с учётом NaN\n",
        "years_fact = len(sorted(df['year_of_release'].unique()))\n",
        "# Длина диапазона лет, от минимального до максимального года. +1 из-за NaN\n",
        "years_hyps = len(range(int(df['year_of_release'].min()), int(df['year_of_release'].max())+1)) + 1\n",
        "# Разница между реальным и ожидаемом количеством разных лет\n",
        "years_fact - years_hyps"
      ],
      "execution_count": null,
      "outputs": [
        {
          "output_type": "execute_result",
          "data": {
            "text/plain": [
              "0"
            ]
          },
          "metadata": {
            "tags": []
          },
          "execution_count": 14
        }
      ]
    },
    {
      "cell_type": "markdown",
      "metadata": {
        "id": "oxSxn_rxIqd7"
      },
      "source": [
        "Гипотеза провалилась - никакой год из выборки не выпадал, так как количество разных лет совпало у реальности и ожидания.  \n",
        "Следовательно, пропуски относятся к разным годам, а их отсутствие - результат некой технической ошибки. Но для спокойствия, лучше дополнительно посмотреть на гистограмму распределения игр по годам выпуска."
      ]
    },
    {
      "cell_type": "code",
      "metadata": {
        "id": "33x7UrU0Iqd8",
        "outputId": "a7e358e0-ea22-4e1c-fedf-404aaedaedf0"
      },
      "source": [
        "df['year_of_release'].value_counts().sort_index().plot(kind='bar',\n",
        "                                                       grid=True,\n",
        "                                                       figsize=(12, 4));"
      ],
      "execution_count": null,
      "outputs": [
        {
          "output_type": "display_data",
          "data": {
            "image/png": "[encoded data removed]",
            "text/plain": [
              "<Figure size 864x288 with 1 Axes>"
            ]
          },
          "metadata": {
            "tags": [],
            "needs_background": "light"
          }
        }
      ]
    },
    {
      "cell_type": "markdown",
      "metadata": {
        "id": "k14OpTAFIqd8"
      },
      "source": [
        "Получившаяся гистограмма показала реалистичный рост выпуска игр, но после 2010-го года он резко пошёл на спад. Произошёл он из-за получившихся пропусков, или из-за естественных причин внутри игровой индустрии - вопрос, который можно разрешить через проверку значимости отсутствующих данных для выборки. Узнаем процент пропущенных данных."
      ]
    },
    {
      "cell_type": "code",
      "metadata": {
        "id": "lGFyky_WIqd8",
        "outputId": "ff0241d5-bbca-48f5-be40-0014c6141737"
      },
      "source": [
        "print(f\"Пропуски года релиза составляют {len(df[df['year_of_release'].isna()]) / df.shape[0]:.0%} от всех данных\")\n",
        "print(f\"В выборке представлено {years_fact - 1} лет\")"
      ],
      "execution_count": null,
      "outputs": [
        {
          "output_type": "stream",
          "text": [
            "Пропуски года релиза составляют 2% от всех данных\n",
            "В выборке представлено 37 лет\n"
          ],
          "name": "stdout"
        }
      ]
    },
    {
      "cell_type": "markdown",
      "metadata": {
        "id": "x7flZLqcIqd9"
      },
      "source": [
        "2% от всех данных не могут столь существенно сказаться на промежутке в 37 лет, чтобы образовать спад игровой индустрии.  \n",
        "Эти данные можно не учитывать - процент слишком незначительный."
      ]
    },
    {
      "cell_type": "code",
      "metadata": {
        "id": "F-KmrBrJIqd9"
      },
      "source": [
        "df.dropna(axis='index', how='any', subset=['year_of_release'], inplace=True)"
      ],
      "execution_count": null,
      "outputs": []
    },
    {
      "cell_type": "markdown",
      "metadata": {
        "id": "FP4GGTLvIqd-"
      },
      "source": [
        "После удаления пропусков, изменим тип столбца с `float64` на `int` - год не может быть не целым числом."
      ]
    },
    {
      "cell_type": "code",
      "metadata": {
        "id": "zrihAN-4Iqd_"
      },
      "source": [
        "df['year_of_release'] = df['year_of_release'].astype('int')"
      ],
      "execution_count": null,
      "outputs": []
    },
    {
      "cell_type": "markdown",
      "metadata": {
        "id": "Vck7ZtzAIqd_"
      },
      "source": [
        "Теперь, подсчитаем разницу в количестве уникальных значений до предобработки и до текущего этапа - так можно оценить, насколько критичной для выборки стала потеря данных."
      ]
    },
    {
      "cell_type": "code",
      "metadata": {
        "id": "KMBiPgLMIqd_",
        "outputId": "ffb4d88a-df21-4010-d493-25b46bd30c1e"
      },
      "source": [
        "unique_middle = df.nunique()\n",
        "unique_start - unique_middle"
      ],
      "execution_count": null,
      "outputs": [
        {
          "output_type": "execute_result",
          "data": {
            "text/plain": [
              "name               133\n",
              "platform             0\n",
              "year_of_release      0\n",
              "genre                0\n",
              "na_sales             1\n",
              "eu_sales             0\n",
              "jp_sales             0\n",
              "other_sales          0\n",
              "critic_score         1\n",
              "user_score           0\n",
              "rating               0\n",
              "dtype: int64"
            ]
          },
          "metadata": {
            "tags": []
          },
          "execution_count": 19
        }
      ]
    },
    {
      "cell_type": "markdown",
      "metadata": {
        "id": "M_GLZmwTIqd_"
      },
      "source": [
        "После обработки аномальной группы, мы потеряли записи о 133-х уникальных играх. Это неприятно, но не должно значимо сказаться на дальнейших результатах."
      ]
    },
    {
      "cell_type": "markdown",
      "metadata": {
        "id": "oueLP0NCIqeA"
      },
      "source": [
        "## Обработка подозрительной группы"
      ]
    },
    {
      "cell_type": "markdown",
      "metadata": {
        "id": "A50m-lxaIqeA"
      },
      "source": [
        "Теперь, нужно решить проблему с рейтингом игры и оценками от пользователей и критиков. В этих столбцах существуют как обычные `NaN` пропуски данных, так и помеченные пропуски `TBD`. Посмотрим, сколько сейчас таких записей."
      ]
    },
    {
      "cell_type": "code",
      "metadata": {
        "scrolled": true,
        "id": "7gsKV8knIqeA",
        "outputId": "3a1ee297-f80b-4689-bba9-e2695f00b1e0"
      },
      "source": [
        "print(f\"Неполные записи: {(df.isna().sum(axis=0) + df[df.isin(['tbd'])].count())['user_score'] / df.shape[0]:.0%}\")\n",
        "df.isna().sum(axis=0) + df[df.isin(['tbd'])].count()"
      ],
      "execution_count": null,
      "outputs": [
        {
          "output_type": "stream",
          "text": [
            "Неполные записи: 55%\n"
          ],
          "name": "stdout"
        },
        {
          "output_type": "execute_result",
          "data": {
            "text/plain": [
              "name                  0\n",
              "platform              0\n",
              "year_of_release       0\n",
              "genre                 0\n",
              "na_sales              0\n",
              "eu_sales              0\n",
              "jp_sales              0\n",
              "other_sales           0\n",
              "critic_score       8461\n",
              "user_score         8981\n",
              "rating             6676\n",
              "dtype: int64"
            ]
          },
          "metadata": {
            "tags": []
          },
          "execution_count": 20
        }
      ]
    },
    {
      "cell_type": "markdown",
      "metadata": {
        "id": "Gy-6PD63IqeD"
      },
      "source": [
        "**55%** всех записей имеют незаполненное поле оценки игры пользователями. Если подсчитывать все поля с хотя бы одним пропуском в группе рейтинга, то этот процент поднимется ещё выше. Следовательно, пропуски в группе рейтинга опасно заполнять средним значением или медианой - это существенно исказит результаты. Удалять такие записи тоже нельзя - будет потеряно слишком много полезных данных в других категориях.\n",
        "\n",
        "Существуют разные варианты решения проблемы пропусков для количественных и категориальных переменных.\n",
        "\n",
        "Решение проблемы пропусков в количественных переменных:  \n",
        "1) Заполнение пропусков нулями, медианой или средним арифметическим значением;  \n",
        "2) Заполнение пропусков индикаторными переменными;  \n",
        "3) Игнорирование записей с пропусками, если они не слишком сильно влияют на общую модель;  \n",
        "4) Заполнение пропусков в соответствие с некой моделью для прогнозирования значения на месте пропуска.\n",
        "\n",
        "Для категориальных переменных, решение аналогичное, но первые два пункта соответственно меняются на выделение пропусков в некую новую группу, или присоединение их к наиболее распространённой категориальной группе из уже существующих. В случае данной задачи, отсутствующих данных действительно много, что не позволяет просто заполнить их неким значением или же совместить с какой-либо группой. Игнорировать данные также нельзя - отсутствующих значений слишком много.\n",
        "\n",
        "Вариант с заполнением пропусков в сответствие с некой моделью, здесь также не подойдёт. Можно было бы равномерно заполнить пропуски для каждой группы, но в условиях текущей модели данных, прогнозирование будет либо неточным, либо приведёт к искусственному созданию зависимости между данными.\n",
        "\n",
        "Оптимальным решением этой проблемы будет компромисс между заполнением данных и их игнорированием. Для **количественных переменных**, пропуски можно сохранить: *в большинстве случаев, `pandas` автоматически отфильтровывает пустые значения, а где они сохраняются - там можно использовать методы вроде `notnull()`*. Для **категориальных переменных**, пропуски лучше выделить в отдельную группу. Назовём ёё уже знакомым сокращением `TBD`."
      ]
    },
    {
      "cell_type": "code",
      "metadata": {
        "id": "f6cVQNncIqeH"
      },
      "source": [
        "# Заполнение сокращения TBD в колонке оценки пользователей на NaN\n",
        "df['user_score'].replace('tbd', np.nan, inplace=True)\n",
        "# Когда в столбце остались только NaN и числа, его тип следует изменить на числовой\n",
        "df['user_score'] = pd.to_numeric(df['user_score'])\n",
        "\n",
        "# Заполнение пропусков в колонке рейтинга на TBD\n",
        "df['rating'].fillna('TBD', inplace=True)"
      ],
      "execution_count": null,
      "outputs": []
    },
    {
      "cell_type": "markdown",
      "metadata": {
        "id": "fONgvMOUIqeH"
      },
      "source": [
        "Закрепляя результат, можно посмотреть количество пропусков по всему датафрейму. Быть может, где-то ещё остались данные."
      ]
    },
    {
      "cell_type": "code",
      "metadata": {
        "id": "-vcWcsPpIqeI",
        "outputId": "e55f0d9f-13ae-4918-b72d-bc8f97675043"
      },
      "source": [
        "df.isna().sum(axis=0)"
      ],
      "execution_count": null,
      "outputs": [
        {
          "output_type": "execute_result",
          "data": {
            "text/plain": [
              "name                  0\n",
              "platform              0\n",
              "year_of_release       0\n",
              "genre                 0\n",
              "na_sales              0\n",
              "eu_sales              0\n",
              "jp_sales              0\n",
              "other_sales           0\n",
              "critic_score       8461\n",
              "user_score         8981\n",
              "rating                0\n",
              "dtype: int64"
            ]
          },
          "metadata": {
            "tags": []
          },
          "execution_count": 22
        }
      ]
    },
    {
      "cell_type": "markdown",
      "metadata": {
        "id": "vaZZ3i9hIqeI"
      },
      "source": [
        "Записи с пустыми полями остались только в тех столбцах, где это допустимо - предобработка данных почти завершена."
      ]
    },
    {
      "cell_type": "markdown",
      "metadata": {
        "id": "dPy13Kn2IqeI"
      },
      "source": [
        "## Дополнение данных"
      ]
    },
    {
      "cell_type": "markdown",
      "metadata": {
        "id": "V-_HWJRpIqeI"
      },
      "source": [
        "Перед непосредственным анализом данных, необходимо закончить предобработку данных добавлением в датафрейм нового столбца суммарных продаж во всех регионах - это позволит улучшить качество дальнейшего анализа."
      ]
    },
    {
      "cell_type": "code",
      "metadata": {
        "scrolled": true,
        "id": "GNMIw0MsIqeI",
        "outputId": "83ecbc49-31d7-4d7b-f511-a9cf9d0ac96b"
      },
      "source": [
        "# Вставим новый столбец total_sales перед 8-м столбцом critic_score\n",
        "df.insert(8, 'total_sales', df[['na_sales', 'eu_sales', 'jp_sales', 'other_sales']].sum(axis=1))\n",
        "df.head()"
      ],
      "execution_count": null,
      "outputs": [
        {
          "output_type": "execute_result",
          "data": {
            "text/html": [
              "<div>\n",
              "<style scoped>\n",
              "    .dataframe tbody tr th:only-of-type {\n",
              "        vertical-align: middle;\n",
              "    }\n",
              "\n",
              "    .dataframe tbody tr th {\n",
              "        vertical-align: top;\n",
              "    }\n",
              "\n",
              "    .dataframe thead th {\n",
              "        text-align: right;\n",
              "    }\n",
              "</style>\n",
              "<table border=\"1\" class=\"dataframe\">\n",
              "  <thead>\n",
              "    <tr style=\"text-align: right;\">\n",
              "      <th></th>\n",
              "      <th>name</th>\n",
              "      <th>platform</th>\n",
              "      <th>year_of_release</th>\n",
              "      <th>genre</th>\n",
              "      <th>na_sales</th>\n",
              "      <th>eu_sales</th>\n",
              "      <th>jp_sales</th>\n",
              "      <th>other_sales</th>\n",
              "      <th>total_sales</th>\n",
              "      <th>critic_score</th>\n",
              "      <th>user_score</th>\n",
              "      <th>rating</th>\n",
              "    </tr>\n",
              "  </thead>\n",
              "  <tbody>\n",
              "    <tr>\n",
              "      <td>0</td>\n",
              "      <td>Wii Sports</td>\n",
              "      <td>Wii</td>\n",
              "      <td>2006</td>\n",
              "      <td>Sports</td>\n",
              "      <td>41.36</td>\n",
              "      <td>28.96</td>\n",
              "      <td>3.77</td>\n",
              "      <td>8.45</td>\n",
              "      <td>82.54</td>\n",
              "      <td>76.0</td>\n",
              "      <td>8.0</td>\n",
              "      <td>E</td>\n",
              "    </tr>\n",
              "    <tr>\n",
              "      <td>1</td>\n",
              "      <td>Super Mario Bros.</td>\n",
              "      <td>NES</td>\n",
              "      <td>1985</td>\n",
              "      <td>Platform</td>\n",
              "      <td>29.08</td>\n",
              "      <td>3.58</td>\n",
              "      <td>6.81</td>\n",
              "      <td>0.77</td>\n",
              "      <td>40.24</td>\n",
              "      <td>NaN</td>\n",
              "      <td>NaN</td>\n",
              "      <td>TBD</td>\n",
              "    </tr>\n",
              "    <tr>\n",
              "      <td>2</td>\n",
              "      <td>Mario Kart Wii</td>\n",
              "      <td>Wii</td>\n",
              "      <td>2008</td>\n",
              "      <td>Racing</td>\n",
              "      <td>15.68</td>\n",
              "      <td>12.76</td>\n",
              "      <td>3.79</td>\n",
              "      <td>3.29</td>\n",
              "      <td>35.52</td>\n",
              "      <td>82.0</td>\n",
              "      <td>8.3</td>\n",
              "      <td>E</td>\n",
              "    </tr>\n",
              "    <tr>\n",
              "      <td>3</td>\n",
              "      <td>Wii Sports Resort</td>\n",
              "      <td>Wii</td>\n",
              "      <td>2009</td>\n",
              "      <td>Sports</td>\n",
              "      <td>15.61</td>\n",
              "      <td>10.93</td>\n",
              "      <td>3.28</td>\n",
              "      <td>2.95</td>\n",
              "      <td>32.77</td>\n",
              "      <td>80.0</td>\n",
              "      <td>8.0</td>\n",
              "      <td>E</td>\n",
              "    </tr>\n",
              "    <tr>\n",
              "      <td>4</td>\n",
              "      <td>Pokemon Red/Pokemon Blue</td>\n",
              "      <td>GB</td>\n",
              "      <td>1996</td>\n",
              "      <td>Role-Playing</td>\n",
              "      <td>11.27</td>\n",
              "      <td>8.89</td>\n",
              "      <td>10.22</td>\n",
              "      <td>1.00</td>\n",
              "      <td>31.38</td>\n",
              "      <td>NaN</td>\n",
              "      <td>NaN</td>\n",
              "      <td>TBD</td>\n",
              "    </tr>\n",
              "  </tbody>\n",
              "</table>\n",
              "</div>"
            ],
            "text/plain": [
              "                       name platform  year_of_release         genre  na_sales  \\\n",
              "0                Wii Sports      Wii             2006        Sports     41.36   \n",
              "1         Super Mario Bros.      NES             1985      Platform     29.08   \n",
              "2            Mario Kart Wii      Wii             2008        Racing     15.68   \n",
              "3         Wii Sports Resort      Wii             2009        Sports     15.61   \n",
              "4  Pokemon Red/Pokemon Blue       GB             1996  Role-Playing     11.27   \n",
              "\n",
              "   eu_sales  jp_sales  other_sales  total_sales  critic_score  user_score  \\\n",
              "0     28.96      3.77         8.45        82.54          76.0         8.0   \n",
              "1      3.58      6.81         0.77        40.24           NaN         NaN   \n",
              "2     12.76      3.79         3.29        35.52          82.0         8.3   \n",
              "3     10.93      3.28         2.95        32.77          80.0         8.0   \n",
              "4      8.89     10.22         1.00        31.38           NaN         NaN   \n",
              "\n",
              "  rating  \n",
              "0      E  \n",
              "1    TBD  \n",
              "2      E  \n",
              "3      E  \n",
              "4    TBD  "
            ]
          },
          "metadata": {
            "tags": []
          },
          "execution_count": 23
        }
      ]
    },
    {
      "cell_type": "markdown",
      "metadata": {
        "id": "57OfaZN3IqeJ"
      },
      "source": [
        "# Этап 3. Исследовательский анализ данных"
      ]
    },
    {
      "cell_type": "markdown",
      "metadata": {
        "id": "Ro0zh60VIqeJ"
      },
      "source": [
        "Данные обработаны, и их можно исследовать. В задачах проекта стоит анализ данных по годам, для прогнозирования и улучшения прибыли."
      ]
    },
    {
      "cell_type": "markdown",
      "metadata": {
        "id": "G45pQcWjIqeJ"
      },
      "source": [
        "## Определение стартового периода для анализа"
      ]
    },
    {
      "cell_type": "markdown",
      "metadata": {
        "id": "-s801l5xIqeJ"
      },
      "source": [
        "Первым шагом будет определение количества выпущенных игр для каждого года, и отсеивание уже не актуальных периодов.\n",
        "\n",
        "Вернёмся к графику, который был использован в начале предобработки данных."
      ]
    },
    {
      "cell_type": "code",
      "metadata": {
        "id": "5z1Ur083IqeK",
        "outputId": "05ca6a8a-9d5a-4d30-cfa6-0864fc5b4c0a"
      },
      "source": [
        "df['year_of_release'].value_counts().sort_index().plot(kind='bar',\n",
        "                                                       grid=True,\n",
        "                                                       figsize=(12, 4),\n",
        "                                                       title='График выпуска игр по годам');"
      ],
      "execution_count": null,
      "outputs": [
        {
          "output_type": "display_data",
          "data": {
            "image/png": "[encoded data removed]",
            "text/plain": [
              "<Figure size 864x288 with 1 Axes>"
            ]
          },
          "metadata": {
            "tags": [],
            "needs_background": "light"
          }
        }
      ]
    },
    {
      "cell_type": "markdown",
      "metadata": {
        "id": "qs5jzViBIqeK"
      },
      "source": [
        "Эта общая гистограмма наглядно демонстрирует развитие индустрии видеоигр - до появления первого персонального компьютера Altair-8800, их количество было близко к нулю, зато потом начало резко расти. Так, уже в 1994-м году, было выпущено свыше пятиста игр за год. Примем это значение за начальную планку отсеивания."
      ]
    },
    {
      "cell_type": "code",
      "metadata": {
        "scrolled": true,
        "id": "M-i1y3J8IqeK",
        "outputId": "e2b9e2de-3dc8-4274-9403-38d5347e16d9"
      },
      "source": [
        "df.query('year_of_release >= 1994')['year_of_release'].value_counts().sort_index().plot(kind='bar',\n",
        "                                                                                        grid=True,\n",
        "                                                                                        figsize=(12, 4),\n",
        "                                                                                        title='График выпуска игр с 1994 года');"
      ],
      "execution_count": null,
      "outputs": [
        {
          "output_type": "display_data",
          "data": {
            "image/png": "[encoded data removed]",
            "text/plain": [
              "<Figure size 864x288 with 1 Axes>"
            ]
          },
          "metadata": {
            "tags": [],
            "needs_background": "light"
          }
        }
      ]
    },
    {
      "cell_type": "markdown",
      "metadata": {
        "id": "UO1X2qvJIqeK"
      },
      "source": [
        "Первичное отсеивание улучшило наглядность распределения. Уже сейчас видно, что, начиная с 2001-го года, в игровой индустрии начался значимый прогресс. Следовательно, можно снова ограничить рассматриваемый период выборкой старше 2000-го года."
      ]
    },
    {
      "cell_type": "code",
      "metadata": {
        "id": "GoJ0HkHnIqeK",
        "outputId": "6d59e0b6-2dc5-4aa5-e566-9abd070fa51a"
      },
      "source": [
        "df.query('year_of_release > 2000')['year_of_release'].value_counts().sort_index().plot(kind='bar',\n",
        "                                                                                       grid=True,\n",
        "                                                                                       figsize=(12, 4),\n",
        "                                                                                       title='График выпуска игр с 2001 года');"
      ],
      "execution_count": null,
      "outputs": [
        {
          "output_type": "display_data",
          "data": {
            "image/png": "[encoded data removed]",
            "text/plain": [
              "<Figure size 864x288 with 1 Axes>"
            ]
          },
          "metadata": {
            "tags": [],
            "needs_background": "light"
          }
        }
      ]
    },
    {
      "cell_type": "markdown",
      "metadata": {
        "id": "RqzRbWD4IqeL"
      },
      "source": [
        "Получившаяся подборка демонстрирует как успехи в игровой индустрии, так и своеобразные провалы. Эти результаты тесно связаны с общемировой историей.\n",
        "\n",
        "Успехи развития игровой индустрии связаны с активной информационной экспансией человечества: последние два десятилетия стали переворотной для игропрома за счёт развития компьютерной отрасли в целом - вычислительные мощности возросли в сотни раз, расширяя возможности для графической и функциональной компонент разрабатываемых игр. Развитие интернета, повышение качества связи, а также многое другое - всё это сказалось на количестве продаж видеоигр.\n",
        "\n",
        "Спад продаж, заметный по столбцам последних шести лет выборки, тоже связан с историей - но уже не с развитием компьютерных технологий. Скорее всего, он произошёл как следствие глобального экономического кризиса 2008-2009 годов: падение ВВП многих стран и беспрецедентный рост безработицы, сокращение мировой торговли на 10%, падение рынков ценных бумаг. Последствия кризиса трудно определить и перечислить в полной мере даже сегодня, но они оказали значимое влияние и на рынок видеоигр.\n",
        "\n",
        "Предположим, следующее объяснение наблюдаемого падения игровой индустрии после мирового финансового кризиса. В 2008-2009 годах, она демонстрировала рекордные для себя прибыли, связанные с успешным выпуском уже разработанных продуктов - на них не так сильно сказались происходящие события за счёт особенностей цикла разработки игр, который как правило длится несколько лет. Людям, сохранившим работу, нужны были развлечения, а цифровые товары (видеоигры) оказались одним из самых доступных таких средств. Постепенно, кризис преодолевался, но тут сыграл свою роль ранее упомянутый цикл разработки игр: продукты, разработка которых начиналась в период кризиса, были ограничены в количестве доступных денежных и человеческих ресурсов. Это сказалось на их качестве, и попав на прилавки уже после кризиса, они привлекали всё меньшее количество людей, которые вне кризиса могли позволить себе приобретение даже не такого качественного продукта, но после него - были вынуждены искать альтернативные развлечения."
      ]
    },
    {
      "cell_type": "markdown",
      "metadata": {
        "id": "CuSlMu6KIqeL"
      },
      "source": [
        "Как итог рассмотрения картины выпуска игр по годам, выборку для полученного периода (2000-2016гг) стоит закрепить в качестве основного датасета - это позволит получить более актуальные данные о развитии игропрома. Такое временное ограничение также позволяет исключить значимое искажение распределение по платформам в 2016 году, что повысит качество результата. При этом, 2000-ный год, в отличие от предыдущего графика, также включается в период."
      ]
    },
    {
      "cell_type": "code",
      "metadata": {
        "id": "9VawWAYtIqeL",
        "outputId": "b2fa5288-a059-488f-b070-abfd8ac24c57"
      },
      "source": [
        "df = df.query('year_of_release >= 2000')\n",
        "df.head()"
      ],
      "execution_count": null,
      "outputs": [
        {
          "output_type": "execute_result",
          "data": {
            "text/html": [
              "<div>\n",
              "<style scoped>\n",
              "    .dataframe tbody tr th:only-of-type {\n",
              "        vertical-align: middle;\n",
              "    }\n",
              "\n",
              "    .dataframe tbody tr th {\n",
              "        vertical-align: top;\n",
              "    }\n",
              "\n",
              "    .dataframe thead th {\n",
              "        text-align: right;\n",
              "    }\n",
              "</style>\n",
              "<table border=\"1\" class=\"dataframe\">\n",
              "  <thead>\n",
              "    <tr style=\"text-align: right;\">\n",
              "      <th></th>\n",
              "      <th>name</th>\n",
              "      <th>platform</th>\n",
              "      <th>year_of_release</th>\n",
              "      <th>genre</th>\n",
              "      <th>na_sales</th>\n",
              "      <th>eu_sales</th>\n",
              "      <th>jp_sales</th>\n",
              "      <th>other_sales</th>\n",
              "      <th>total_sales</th>\n",
              "      <th>critic_score</th>\n",
              "      <th>user_score</th>\n",
              "      <th>rating</th>\n",
              "    </tr>\n",
              "  </thead>\n",
              "  <tbody>\n",
              "    <tr>\n",
              "      <td>0</td>\n",
              "      <td>Wii Sports</td>\n",
              "      <td>Wii</td>\n",
              "      <td>2006</td>\n",
              "      <td>Sports</td>\n",
              "      <td>41.36</td>\n",
              "      <td>28.96</td>\n",
              "      <td>3.77</td>\n",
              "      <td>8.45</td>\n",
              "      <td>82.54</td>\n",
              "      <td>76.0</td>\n",
              "      <td>8.0</td>\n",
              "      <td>E</td>\n",
              "    </tr>\n",
              "    <tr>\n",
              "      <td>2</td>\n",
              "      <td>Mario Kart Wii</td>\n",
              "      <td>Wii</td>\n",
              "      <td>2008</td>\n",
              "      <td>Racing</td>\n",
              "      <td>15.68</td>\n",
              "      <td>12.76</td>\n",
              "      <td>3.79</td>\n",
              "      <td>3.29</td>\n",
              "      <td>35.52</td>\n",
              "      <td>82.0</td>\n",
              "      <td>8.3</td>\n",
              "      <td>E</td>\n",
              "    </tr>\n",
              "    <tr>\n",
              "      <td>3</td>\n",
              "      <td>Wii Sports Resort</td>\n",
              "      <td>Wii</td>\n",
              "      <td>2009</td>\n",
              "      <td>Sports</td>\n",
              "      <td>15.61</td>\n",
              "      <td>10.93</td>\n",
              "      <td>3.28</td>\n",
              "      <td>2.95</td>\n",
              "      <td>32.77</td>\n",
              "      <td>80.0</td>\n",
              "      <td>8.0</td>\n",
              "      <td>E</td>\n",
              "    </tr>\n",
              "    <tr>\n",
              "      <td>6</td>\n",
              "      <td>New Super Mario Bros.</td>\n",
              "      <td>DS</td>\n",
              "      <td>2006</td>\n",
              "      <td>Platform</td>\n",
              "      <td>11.28</td>\n",
              "      <td>9.14</td>\n",
              "      <td>6.50</td>\n",
              "      <td>2.88</td>\n",
              "      <td>29.80</td>\n",
              "      <td>89.0</td>\n",
              "      <td>8.5</td>\n",
              "      <td>E</td>\n",
              "    </tr>\n",
              "    <tr>\n",
              "      <td>7</td>\n",
              "      <td>Wii Play</td>\n",
              "      <td>Wii</td>\n",
              "      <td>2006</td>\n",
              "      <td>Misc</td>\n",
              "      <td>13.96</td>\n",
              "      <td>9.18</td>\n",
              "      <td>2.93</td>\n",
              "      <td>2.84</td>\n",
              "      <td>28.91</td>\n",
              "      <td>58.0</td>\n",
              "      <td>6.6</td>\n",
              "      <td>E</td>\n",
              "    </tr>\n",
              "  </tbody>\n",
              "</table>\n",
              "</div>"
            ],
            "text/plain": [
              "                    name platform  year_of_release     genre  na_sales  \\\n",
              "0             Wii Sports      Wii             2006    Sports     41.36   \n",
              "2         Mario Kart Wii      Wii             2008    Racing     15.68   \n",
              "3      Wii Sports Resort      Wii             2009    Sports     15.61   \n",
              "6  New Super Mario Bros.       DS             2006  Platform     11.28   \n",
              "7               Wii Play      Wii             2006      Misc     13.96   \n",
              "\n",
              "   eu_sales  jp_sales  other_sales  total_sales  critic_score  user_score  \\\n",
              "0     28.96      3.77         8.45        82.54          76.0         8.0   \n",
              "2     12.76      3.79         3.29        35.52          82.0         8.3   \n",
              "3     10.93      3.28         2.95        32.77          80.0         8.0   \n",
              "6      9.14      6.50         2.88        29.80          89.0         8.5   \n",
              "7      9.18      2.93         2.84        28.91          58.0         6.6   \n",
              "\n",
              "  rating  \n",
              "0      E  \n",
              "2      E  \n",
              "3      E  \n",
              "6      E  \n",
              "7      E  "
            ]
          },
          "metadata": {
            "tags": []
          },
          "execution_count": 27
        }
      ]
    },
    {
      "cell_type": "markdown",
      "metadata": {
        "id": "tv--Q9KQIqeL"
      },
      "source": [
        "## Определение актуальности платформ"
      ]
    },
    {
      "cell_type": "markdown",
      "metadata": {
        "id": "drDz10D0IqeM"
      },
      "source": [
        "Второй шаг заключается в определении изменений продаж по платформам.\n",
        "\n",
        "Сделать это можно с помощью небольшого исследования динамики нескольких платформ с наибольшими суммарными продажами - это уже не компании однодневки, и их можно принять за своеобразный стандарт классической платформы для геймдева. Начнём с выборки шести платформ, удовлетворяющих условию."
      ]
    },
    {
      "cell_type": "code",
      "metadata": {
        "scrolled": true,
        "id": "3yW5voHmIqeM",
        "outputId": "e6329a52-b856-47ee-cd22-c78c51edd246"
      },
      "source": [
        "top_platforms = df[['platform', 'total_sales']].groupby('platform').sum().nlargest(6, 'total_sales').index\n",
        "top_platforms.tolist()"
      ],
      "execution_count": null,
      "outputs": [
        {
          "output_type": "execute_result",
          "data": {
            "text/plain": [
              "['PS2', 'X360', 'PS3', 'Wii', 'DS', 'PS4']"
            ]
          },
          "metadata": {
            "tags": []
          },
          "execution_count": 28
        }
      ]
    },
    {
      "cell_type": "markdown",
      "metadata": {
        "id": "Ot9R-fVdIqeM"
      },
      "source": [
        "После того, как был выделен список платформ с наибольшими суммарными продажами на момент рассматриваемого периода выборки, можно построить для него распределение продаж по годам."
      ]
    },
    {
      "cell_type": "code",
      "metadata": {
        "id": "iwRB3ZWRIqeM"
      },
      "source": [
        "# Выборка данных по шести лучшим платформам\n",
        "top_data = df[df['platform'].isin(top_platforms)]\n",
        "# Сгруппированная выборка по годовым продажам для шести лучших платформ\n",
        "sales_for_years = top_data.groupby(['year_of_release', 'platform'])['total_sales'].sum()"
      ],
      "execution_count": null,
      "outputs": []
    },
    {
      "cell_type": "markdown",
      "metadata": {
        "id": "vhOu8X5JIqeM"
      },
      "source": [
        "Получившееся распределение sales_for_years охватывает промежуток в 16 лет деятельности игровой промышленности, из-за чего его эффективнее всего анализировать с помощью общего графика прибыли для каждой платформы."
      ]
    },
    {
      "cell_type": "code",
      "metadata": {
        "scrolled": false,
        "id": "SoNSjSVCIqeM",
        "outputId": "359d5f8b-0e8f-48e5-b69b-972129d6ce47"
      },
      "source": [
        "sales_for_years.unstack().plot(kind='line',\n",
        "                               grid=True,\n",
        "                               figsize=(16, 4),\n",
        "                               title='Общие продажи ТОП-6 платформ периода 2000-2016гг');"
      ],
      "execution_count": null,
      "outputs": [
        {
          "output_type": "display_data",
          "data": {
            "image/png": "[encoded data removed]",
            "text/plain": [
              "<Figure size 1152x288 with 1 Axes>"
            ]
          },
          "metadata": {
            "tags": [],
            "needs_background": "light"
          }
        }
      ]
    },
    {
      "cell_type": "markdown",
      "metadata": {
        "id": "sSepNPcwIqeN"
      },
      "source": [
        "Построенный график распределения продаж наглядно демонстрирует процесс жизни платформы. Так, с 2000-го года, уже две игровых платформы - DS (11 лет) и PS2 (9 лет), завершили своё существование - их продажи упали до нуля. Продажи для платформ PS3 (10 лет, прибыль на 2016: 3.60), Wii (10 лет, прибыль на 2016: 0.18) и X360 (11 лет, прибыль на 2016: 1.52) практически приблизились к нулю, из-за чего их также можно считать платформами, популярными в прошлом.\n",
        "\n",
        "Согласно полученному графику, характерный период жизни платформ составляет 10 лет. Однако, эти данные подходят лишь для популярных платформ: срок жизни платформы, как правило, связан с её популярностью - чем она выше, тем дольше сохраняются продажи. Так, можно отдельно вывести среднюю продолжительность жизни для популярных платформ, и отдельно для среднестатистической платформы."
      ]
    },
    {
      "cell_type": "code",
      "metadata": {
        "id": "MdZAJPqoIqeN",
        "outputId": "d3b5dba7-1d9e-4a5b-8465-dc1fbf2b3cfa"
      },
      "source": [
        "# Вывод характерного периода жизни для популярных платформ\n",
        "\n",
        "# У нас уже есть список из ТОП-6 платформ с лучшими продажами, его можно применить\n",
        "life_high = top_data[['platform', 'year_of_release']].groupby('platform').agg(lambda x: x.max() - x.min())\n",
        "\n",
        "# Выделяем медианную продолжительность жизни популярных платформ\n",
        "life_high = life_high['year_of_release'].median()\n",
        "print(f'Характерный период жизни для популярных платформ составляет {life_high:.0f} лет')"
      ],
      "execution_count": null,
      "outputs": [
        {
          "output_type": "stream",
          "text": [
            "Характерный период жизни для популярных платформ составляет 10 лет\n"
          ],
          "name": "stdout"
        }
      ]
    },
    {
      "cell_type": "code",
      "metadata": {
        "id": "vjtsRl2LIqeN",
        "outputId": "1a60f71e-73af-49d7-b9fa-d9fe726f1ff5"
      },
      "source": [
        "# Вывод характерного периода жизни для среднестатистической платформы\n",
        "\n",
        "# Выборка \"платформа - диапазон лет\" аггрегируется лямбда-выражением разницы минимального и максимального лет\n",
        "platform_years = df[['platform','year_of_release']].groupby('platform').agg(lambda x: x.max() - x.min())\n",
        "\n",
        "# Сохраним медианный период жизни платформ в целом\n",
        "life_mid = platform_years['year_of_release'].median()\n",
        "\n",
        "print(f'Характерный период жизни среднестатистической платформы составляет {life_mid:.0f} лет')"
      ],
      "execution_count": null,
      "outputs": [
        {
          "output_type": "stream",
          "text": [
            "Характерный период жизни среднестатистической платформы составляет 6 лет\n"
          ],
          "name": "stdout"
        }
      ]
    },
    {
      "cell_type": "code",
      "metadata": {
        "id": "5c1q0pFOIqeN",
        "outputId": "74fdf700-5a85-408f-d47a-e54dc203da1e"
      },
      "source": [
        "# Отдельно получим среднее количество лет и построим график для него\n",
        "platform_years['year_of_release'].value_counts().sort_index().plot(kind='barh',\n",
        "                                                                   figsize=(10, 5),\n",
        "                                                                   title='Количество платформ (Y), проживших (X) лет');"
      ],
      "execution_count": null,
      "outputs": [
        {
          "output_type": "display_data",
          "data": {
            "image/png": "[encoded data removed]",
            "text/plain": [
              "<Figure size 720x360 with 1 Axes>"
            ]
          },
          "metadata": {
            "tags": [],
            "needs_background": "light"
          }
        }
      ]
    },
    {
      "cell_type": "markdown",
      "metadata": {
        "id": "53II0cweIqeO"
      },
      "source": [
        "Как и было видно по графикам, характерный период жизни для популярных платформ составляет 10 лет. Эти данные будут полезны, если среди платформ появится новый, активно развивающийся лидер, для которого нужно приблизительно оценить оставшийся срок его прибыльности.\n",
        "\n",
        "Статистический подсчёт характерного периода жизни платформ в общем случае, позволил уточнить этот срок до 6 лет.\n",
        "\n",
        "Дополнительное выведение графика количества платформ для каждого срока жизни, даёт и общее представление о выбросах в выборке. Так, имеется некая платформа, существующая весь рассматриваемый период. Есть также несколько платформ со сроком жизни до четырёх лет, но характер данных говорит о том что это не выбросы. Использование медианы позволило игнорировать такие выбросы при получении уточнённой характеристики. Дополнительный график также даёт возможность сделать и другой интересный вывод: когда популярные платформы переходят на завершающую стадию своего жизненного цикла (*приблизительно, на 3/5 срока жизни*), возникает одна или несколько новых платформ, активно развивающихся и получающих прибыль."
      ]
    },
    {
      "cell_type": "markdown",
      "metadata": {
        "id": "ljEppQNoIqeO"
      },
      "source": [
        "## Определение потенциально прибыльных платформ"
      ]
    },
    {
      "cell_type": "markdown",
      "metadata": {
        "id": "ioOO9bUaIqeP"
      },
      "source": [
        "Основываясь на полученном графике, можно сделать небольшой прогноз по дальнейшему развитию рынка платформ: платформа PS4 продолжит развиваться и получать прибыль в течение ещё 4-5 лет, пока её не сместят другие платформы. На текущем графике, других потенциально прибыльных платформ нет - они были подавлены приоритетом текущих фаворитов рынка. Проанализируем обстановку на примере новой выборки платформ, составленной за последние шесть лет и не включающей в себя предыдущие платформы, продажи которых уже близки к нулю."
      ]
    },
    {
      "cell_type": "code",
      "metadata": {
        "scrolled": true,
        "id": "gPWUTzQYIqeP",
        "outputId": "25788992-fd38-4529-ea94-5046b57bb98c"
      },
      "source": [
        "# Выделение выборки из датафрейма\n",
        "top_platforms_six = df.query('(year_of_release >= 2010) and (platform not in @top_platforms)')[['platform', 'total_sales']]\n",
        "# Группировка по выборке\n",
        "top_platforms_six = top_platforms_six.groupby('platform').sum().nlargest(5, 'total_sales').index.insert(5, 'PS4')\n",
        "top_platforms_six.tolist()"
      ],
      "execution_count": null,
      "outputs": [
        {
          "output_type": "execute_result",
          "data": {
            "text/plain": [
              "['3DS', 'XOne', 'PC', 'WiiU', 'PSP', 'PS4']"
            ]
          },
          "metadata": {
            "tags": []
          },
          "execution_count": 34
        }
      ]
    },
    {
      "cell_type": "markdown",
      "metadata": {
        "id": "xXnmxJtLIqeP"
      },
      "source": [
        "После того, как был выделен список платформ с наибольшими суммарными продажами за последние шесть лет, можно построить для него распределение продаж по годам. При этом, стоит включить в график и более раннюю историю развития платформ - это позволит улучшить корректность выводов."
      ]
    },
    {
      "cell_type": "code",
      "metadata": {
        "id": "pAQwo8sOIqeP",
        "outputId": "91d3da35-7a68-4e16-9b82-5904dbf45856"
      },
      "source": [
        "sales_for_years_six = df.query('platform in @top_platforms_six').groupby(['year_of_release',\n",
        "                                                                          'platform'])['total_sales'].sum()\n",
        "# Отчёт по прибыли за последние два года\n",
        "sales_for_years_six.tail(11)"
      ],
      "execution_count": null,
      "outputs": [
        {
          "output_type": "execute_result",
          "data": {
            "text/plain": [
              "year_of_release  platform\n",
              "2015             3DS          27.78\n",
              "                 PC            8.52\n",
              "                 PS4         118.90\n",
              "                 PSP           0.12\n",
              "                 WiiU         16.35\n",
              "                 XOne         60.14\n",
              "2016             3DS          15.14\n",
              "                 PC            5.25\n",
              "                 PS4          69.25\n",
              "                 WiiU          4.60\n",
              "                 XOne         26.15\n",
              "Name: total_sales, dtype: float64"
            ]
          },
          "metadata": {
            "tags": []
          },
          "execution_count": 35
        }
      ]
    },
    {
      "cell_type": "markdown",
      "metadata": {
        "id": "VdpOLFaRIqeQ"
      },
      "source": [
        "Получившееся распределение sales_for_years_six охватывает многолетний промежуток деятельности игровой промышленности на шести разных платформах, из-за чего его эффективнее всего анализировать с помощью общего графика прибыли для каждой платформы. Его можно было бы сократить до промежутка в 6 последних лет, но это чревато возможной потерей динамики развития некоторых платформ долгожителей."
      ]
    },
    {
      "cell_type": "code",
      "metadata": {
        "scrolled": true,
        "id": "gRCXNRmeIqeQ",
        "outputId": "51c59cde-8e0c-4ab7-abc2-0f31c1d8470c"
      },
      "source": [
        "sales_for_years_six.unstack().plot(kind='line',\n",
        "                                   grid=True,\n",
        "                                   figsize=(16, 4),\n",
        "                                   title='Общие продажи платформ, ставших ТОП-6 за период 2010-2016гг');"
      ],
      "execution_count": null,
      "outputs": [
        {
          "output_type": "display_data",
          "data": {
            "image/png": "[encoded data removed]",
            "text/plain": [
              "<Figure size 1152x288 with 1 Axes>"
            ]
          },
          "metadata": {
            "tags": [],
            "needs_background": "light"
          }
        }
      ]
    },
    {
      "cell_type": "markdown",
      "metadata": {
        "id": "RSzoT8cuIqeQ"
      },
      "source": [
        "Итоговый график выглядит иначе чем ожидалось - самые прибыльные платформы последних шести лет, не входящие в топ-6 (по заработку) платформ этого тысячелетия, демонстрируют падение за последний год выборки в датасете. \n",
        "\n",
        "Самыми прибыльными платформами можно считать **PS4** и **XOne** - обе эти платформы демонстрируют спад, но всё ещё остаются потенциально прибыльными. Однако, рассчитывать на рост их продаж не стоит - полученные графики дают твёрдый вывод о том, что платформа, после начала спада игровых продаж, начинает стремительно терять прибыль."
      ]
    },
    {
      "cell_type": "markdown",
      "metadata": {
        "id": "3AaSya_TIqeV"
      },
      "source": [
        "## Детальный анализ прибыльности платформ"
      ]
    },
    {
      "cell_type": "markdown",
      "metadata": {
        "id": "in2gmoI8IqeV"
      },
      "source": [
        "Для возможности прогнозирования развития какой-либо новой платформы, стоит проанализировать прибыльность имеющихся платформ по разным параметрам. Начать стоит с boxplot графика глобальных продаж каждой игры с разбивкой по платформам - это позволит определить разницу в продажах. Для формирования современной картины, в качестве рассматриваемых платформ берётся выборка самых прибыльных платформ за последние шесть лет. При этом, платформу PSP можно исключить из рассмотрения - последний график наглядно показал её несостоятельность в настоящее время, и нет смысла прогнозировать прибыли от продаж игр для неё."
      ]
    },
    {
      "cell_type": "markdown",
      "metadata": {
        "id": "ljG6qVakIqeY"
      },
      "source": [
        "### Платформы, продажи и их ящик с усами"
      ]
    },
    {
      "cell_type": "code",
      "metadata": {
        "id": "10muUCtJIqeY"
      },
      "source": [
        "# Данные по PSP уже не актуальны, извлечём их из топа\n",
        "top_platforms_six = top_platforms_six.drop('PSP')"
      ],
      "execution_count": null,
      "outputs": []
    },
    {
      "cell_type": "code",
      "metadata": {
        "id": "LZ29Nxz1IqeY",
        "outputId": "d62abe9c-98e4-401f-9365-cb9a4f42f1bd"
      },
      "source": [
        "# Выборка данных по самым прибыльным и актуальным платформам за последние шесть лет\n",
        "best_platforms_actual = df.query('platform in @top_platforms_six')[['platform', 'total_sales']]\n",
        "\n",
        "# Отключаем оповещение об устаревании - оно возникает из-за особенностей графика boxplot\n",
        "np.warnings.filterwarnings('ignore', category=np.VisibleDeprecationWarning)\n",
        "# Построение горизонтального boxplot графика для каждой из платформ\n",
        "best_platforms_actual.boxplot(column='total_sales',\n",
        "                              by='platform',\n",
        "                              grid=True,\n",
        "                              figsize=(16, 5),\n",
        "                              vert=False);"
      ],
      "execution_count": null,
      "outputs": [
        {
          "output_type": "display_data",
          "data": {
            "image/png": "[encoded data removed]",
            "text/plain": [
              "<Figure size 1152x360 with 1 Axes>"
            ]
          },
          "metadata": {
            "tags": [],
            "needs_background": "light"
          }
        }
      ]
    },
    {
      "cell_type": "markdown",
      "metadata": {
        "id": "S54jNVtaIqeg"
      },
      "source": [
        "Boxplot график глобальных продаж каждой игры для каждой из платформ в ТОП-5 платформ за последние шесть лет, наглядно демонстрирует разницу в продажах. Однако, ориентироваться по нему крайне неудобно - мешают выбросы. Данные по выбросам необходимо учесть в выводе к данному этапу исследования, так как они могут влиять на популярность платформы и её общую прибыль.\n",
        "\n",
        "Для исследования продаж игр, которые составляют основной костяк прибыли платформ, построим график с ограничением по оси количества продаж, это позволит точнее оценить ситуацию."
      ]
    },
    {
      "cell_type": "code",
      "metadata": {
        "id": "Xdf5n6EMIqeg",
        "outputId": "2400b96e-4863-415a-aa27-5ffbce49840f"
      },
      "source": [
        "best_platforms_actual.agg(['median', 'mean'])"
      ],
      "execution_count": null,
      "outputs": [
        {
          "output_type": "execute_result",
          "data": {
            "text/html": [
              "<div>\n",
              "<style scoped>\n",
              "    .dataframe tbody tr th:only-of-type {\n",
              "        vertical-align: middle;\n",
              "    }\n",
              "\n",
              "    .dataframe tbody tr th {\n",
              "        vertical-align: top;\n",
              "    }\n",
              "\n",
              "    .dataframe thead th {\n",
              "        text-align: right;\n",
              "    }\n",
              "</style>\n",
              "<table border=\"1\" class=\"dataframe\">\n",
              "  <thead>\n",
              "    <tr style=\"text-align: right;\">\n",
              "      <th></th>\n",
              "      <th>total_sales</th>\n",
              "    </tr>\n",
              "  </thead>\n",
              "  <tbody>\n",
              "    <tr>\n",
              "      <td>median</td>\n",
              "      <td>0.100000</td>\n",
              "    </tr>\n",
              "    <tr>\n",
              "      <td>mean</td>\n",
              "      <td>0.460126</td>\n",
              "    </tr>\n",
              "  </tbody>\n",
              "</table>\n",
              "</div>"
            ],
            "text/plain": [
              "        total_sales\n",
              "median     0.100000\n",
              "mean       0.460126"
            ]
          },
          "metadata": {
            "tags": []
          },
          "execution_count": 39
        }
      ]
    },
    {
      "cell_type": "markdown",
      "metadata": {
        "id": "wMQF1CM7Iqei"
      },
      "source": [
        "Медиана и среднее отличаются достаточно сильно, относительно своих значений. Это означает сильное влияние выбросов на выборку. Для рассмотрения в контексте ящика с усами, лучше сократить её до максимальных продаж равных 0.85 миллионов долларов. Так мы получим полный boxplot график для каждой из рассматриваемых платформ, на котором будет присутствовать некоторое количество выбросов - оно позволит наглядно охарактеризовать разницу между ними и медианным значением продаж платформы.\n",
        "\n",
        "Выбранное значение полезно ещё и тем, что включает в себя медианы каждой платформы из ТОП-5 - это видно по первому графику."
      ]
    },
    {
      "cell_type": "code",
      "metadata": {
        "id": "Z6ybP9g7Iqem",
        "outputId": "364d60c1-d10e-4a36-e6c9-93c5dbec41e8"
      },
      "source": [
        "# Выборка данных по самым прибыльным и актуальным платформам за последние шесть лет\n",
        "best_platforms_actual = df.query('(platform in @top_platforms_six) and (total_sales < 0.85)')[['platform', 'total_sales']]\n",
        "\n",
        "# Построение горизонтального boxplot графика для каждой из платформ\n",
        "best_platforms_actual.boxplot(column='total_sales',\n",
        "                              by='platform',\n",
        "                              grid=True,\n",
        "                              figsize=(16, 5),\n",
        "                              vert=False);"
      ],
      "execution_count": null,
      "outputs": [
        {
          "output_type": "display_data",
          "data": {
            "image/png": "[encoded data removed]",
            "text/plain": [
              "<Figure size 1152x360 with 1 Axes>"
            ]
          },
          "metadata": {
            "tags": [],
            "needs_background": "light"
          }
        }
      ]
    },
    {
      "cell_type": "markdown",
      "metadata": {
        "id": "0AiMaq0gIqem"
      },
      "source": [
        "Без учёта всех выбросов, график стал достаточно читаемым для исследования. Теперь, можно сравнить платформы между собой: медианная прибыль говорит об основном уровне получаемой прибыли с каждой игры, квартили ограничивают основную прибыль от выбросов, а разброс показывает популярность платформы в контексте покупаемости.\n",
        "\n",
        "Согласно данным тезисам, доход платформ WiiU, XOne и PS4 является самым стабильным: их медианная прибыль и верхний квартиль (граница 3/4 прибыли) превосходят другие платформы. В совокупности с предыдущими исследованиями, этот факт предоставляет новую информацию о прибыльности платформ - PS4 и XOne статистически являются самыми популярными и перспективными платформами 2016-го года за счёт определённых игр с очень высокими уровнями продаж. Такие игры отображаются на первом boxplot графике в виде выбросов, что приводит нас к новому выводу.\n",
        "\n",
        "**Игры-хиты, обретшие высокую популярность, очень сильно влияют на прибыль и популярность платформ, но не стоит забывать и про прибыль с менее крупных и популярных проектов.**"
      ]
    },
    {
      "cell_type": "markdown",
      "metadata": {
        "id": "DCJw0suZIqem"
      },
      "source": [
        "### Влияние оценок критиков и игроков на продажи игр для платформы PS4"
      ]
    },
    {
      "cell_type": "markdown",
      "metadata": {
        "id": "lRTynwFKIqem"
      },
      "source": [
        "Изученные графики позволяют выделить платформу PS4 в качестве современного лидера среди платформ, чьи финансовые позиции постепенно стремятся к нулю. Однако, данная платформа также лидирует по количеству выпущенных для неё игр - это позволяет на её примере исследовать влияние отзывов пользователей и критиков на продажи игр."
      ]
    },
    {
      "cell_type": "code",
      "metadata": {
        "id": "YfbwXihRIqem",
        "outputId": "9e59cff1-7e65-4483-b3a8-fb458c0cfd52"
      },
      "source": [
        "# Выделение данных по платформе PS4\n",
        "info_ps4 = df.query('platform == \"PS4\"')[['total_sales', 'critic_score', 'user_score']]\n",
        "info_ps4.median()"
      ],
      "execution_count": null,
      "outputs": [
        {
          "output_type": "execute_result",
          "data": {
            "text/plain": [
              "total_sales      0.2\n",
              "critic_score    73.0\n",
              "user_score       7.0\n",
              "dtype: float64"
            ]
          },
          "metadata": {
            "tags": []
          },
          "execution_count": 41
        }
      ]
    },
    {
      "cell_type": "markdown",
      "metadata": {
        "id": "SCYHnpCcIqen"
      },
      "source": [
        "Проверить гипотезу о наличии влияния отзывов на продажи можно с помощью диаграммы рассеяния и корреляции. При этом, диаграмму рассеивания можно ограничить как по продажам, так и по оценкам: выбросы присутствуют и там и там, в связи с чем, графики ограничиваются согласно ранее построенным графикам.\n",
        "\n",
        "Так, большая часть продаж сконцентрирована в диапазоне до одного миллиарда долларов. Это всего в три раза меньше максимального выброса, но и в 16 раз больше чем медианное значение. Своеобразная золотая середина - хоть сюда и входит некая доля выбросов, но оставшихся данных хватает для анализа.  \n",
        "\n",
        "Оценки критиков и пользователей соответственно концентрируются в верхней половине своих диапазонов - почти везде они превышают 50% от максимальной оценки в категории, но не поднимаются свыше 95%. Но отвергать низкие оценки всё равно не целесообразно - так как исследуется их влияние на общую картину, то важно наблюдать весь диапазон оценок."
      ]
    },
    {
      "cell_type": "code",
      "metadata": {
        "scrolled": false,
        "id": "2OOznb6_Iqen",
        "outputId": "f03fed2d-5c88-4b5f-cca9-9faf3d4e5517"
      },
      "source": [
        "# Диаграмма рассеивания для оценок критиков и общих продаж на PS4\n",
        "info_ps4.plot(x='critic_score',\n",
        "              y='total_sales',\n",
        "              ylim=(0, 1.0),\n",
        "              kind='scatter',\n",
        "              figsize=(11, 3),\n",
        "              alpha=0.4,\n",
        "              title='Диаграмма рассеивания по оценкам критиков и общим продажам на PS4');"
      ],
      "execution_count": null,
      "outputs": [
        {
          "output_type": "display_data",
          "data": {
            "image/png": "[encoded data removed]",
            "text/plain": [
              "<Figure size 792x216 with 1 Axes>"
            ]
          },
          "metadata": {
            "tags": [],
            "needs_background": "light"
          }
        }
      ]
    },
    {
      "cell_type": "code",
      "metadata": {
        "scrolled": true,
        "id": "6TO5hdIiIqeo",
        "outputId": "00758193-dac2-430c-fbaf-ffb167c81394"
      },
      "source": [
        "# Диаграмма рассеивания для оценок пользователей и общих продаж на PS4\n",
        "info_ps4.plot(x='user_score',\n",
        "              y='total_sales',\n",
        "              ylim=(0, 1.0),\n",
        "              kind='scatter',\n",
        "              figsize=(11, 3),\n",
        "              alpha=0.4,\n",
        "              title='Диаграмма рассеивания по оценкам пользователей и общим продажам на PS4');"
      ],
      "execution_count": null,
      "outputs": [
        {
          "output_type": "display_data",
          "data": {
            "image/png": "[encoded data removed]",
            "text/plain": [
              "<Figure size 792x216 with 1 Axes>"
            ]
          },
          "metadata": {
            "tags": [],
            "needs_background": "light"
          }
        }
      ]
    },
    {
      "cell_type": "markdown",
      "metadata": {
        "id": "7XaZTYihIqeo"
      },
      "source": [
        "Получившиеся диаграммы рассеивания показывают схожие картины - чем выше оценка, тем большее количество продаж и тем выше прибыль. При этом, влияние критиков кажется большим чем влияние пользователей. Так ли это, можно узнать с помощью корреляции."
      ]
    },
    {
      "cell_type": "code",
      "metadata": {
        "id": "y7T2B5ZlIqep",
        "outputId": "057c2bff-60db-40ee-c852-cb87de803f64"
      },
      "source": [
        "corr_critic_sales_ps4 = info_ps4['total_sales'].corr(info_ps4['critic_score'])\n",
        "print(f'Коэффициент корреляции оценки критиков с общими продажами на PS4: {corr_critic_sales_ps4}')\n",
        "\n",
        "corr_user_sales_ps4 = info_ps4['total_sales'].corr(info_ps4['user_score'])\n",
        "print(f'Коэффициент корреляции оценки пользователей с общими продажами на PS4: {corr_user_sales_ps4}')"
      ],
      "execution_count": null,
      "outputs": [
        {
          "output_type": "stream",
          "text": [
            "Коэффициент корреляции оценки критиков с общими продажами на PS4: 0.406567902061781\n",
            "Коэффициент корреляции оценки пользователей с общими продажами на PS4: -0.031957110204556424\n"
          ],
          "name": "stdout"
        }
      ]
    },
    {
      "cell_type": "markdown",
      "metadata": {
        "id": "2CCWnkwSIqep"
      },
      "source": [
        "Закономерно, была выявлена корреляция оценки критиков на общие продажи - её коэффициент составил приблизительно 0.4, что говорит о наличии слабой связи. В случае оценки пользователей, картина получилась неожиданной: связь крайне слабая и отрицательная. Проверить результаты стоит для общего случая всех платформ - это позволит избежать ошибки нехватки данных, которые могли существовать в случае PS4."
      ]
    },
    {
      "cell_type": "markdown",
      "metadata": {
        "id": "CMmJ1qWPIqep"
      },
      "source": [
        "### Влияние оценок критиков и игроков на продажи игр для всех современных платформ"
      ]
    },
    {
      "cell_type": "markdown",
      "metadata": {
        "id": "j5iXlJ6QIqep"
      },
      "source": [
        "Для начала, получим медианные значения по продажам и оценкам - это поможет скорректировать диаграммы рассеивания."
      ]
    },
    {
      "cell_type": "code",
      "metadata": {
        "scrolled": true,
        "id": "N5tvYbZnIqep",
        "outputId": "baf97d3e-4635-4858-b30e-baaa3dd5e9e5"
      },
      "source": [
        "info_all_platforms = df.query('(critic_score >= 0) and (user_score >= 0)')[['total_sales',\n",
        "                                                                            'critic_score',\n",
        "                                                                            'user_score']]\n",
        "\n",
        "info_all_platforms.median()"
      ],
      "execution_count": null,
      "outputs": [
        {
          "output_type": "execute_result",
          "data": {
            "text/plain": [
              "total_sales      0.29\n",
              "critic_score    72.00\n",
              "user_score       7.50\n",
              "dtype: float64"
            ]
          },
          "metadata": {
            "tags": []
          },
          "execution_count": 45
        }
      ]
    },
    {
      "cell_type": "markdown",
      "metadata": {
        "id": "BDUnn5tYIqeq"
      },
      "source": [
        "Полученные значения очень близки к медианным параметрам для PS4. Количество данных в выборке позволяет утверждать, что влияние PS4 на медианные значения всей выборки не столь значительно. Следовательно, результату можно доверять и использовать настройки диаграмм рассеивания из анализа PS4."
      ]
    },
    {
      "cell_type": "code",
      "metadata": {
        "scrolled": false,
        "id": "zT-kBVv1Iqeq",
        "outputId": "ede407e3-bb73-4754-8e5e-0213a919f1cf"
      },
      "source": [
        "# Диаграмма рассеивания для оценок критиков и общих продаж на всех платформах\n",
        "info_all_platforms.plot(x='critic_score',\n",
        "                        y='total_sales',\n",
        "                        ylim=(0, 2.0),\n",
        "                        kind='scatter',\n",
        "                        figsize=(11, 3),\n",
        "                        alpha=0.4,\n",
        "                        title='Диаграмма рассеивания по оценкам критиков и общим продажам на всех платформах');"
      ],
      "execution_count": null,
      "outputs": [
        {
          "output_type": "display_data",
          "data": {
            "image/png": "[encoded data removed]",
            "text/plain": [
              "<Figure size 792x216 with 1 Axes>"
            ]
          },
          "metadata": {
            "tags": [],
            "needs_background": "light"
          }
        }
      ]
    },
    {
      "cell_type": "code",
      "metadata": {
        "scrolled": false,
        "id": "c1gtSNw3Iqeq",
        "outputId": "410fa1a3-3c5b-4811-d9cc-a5d038678edf"
      },
      "source": [
        "# Диаграмма рассеивания для оценок пользователей и общих продаж на всех платформах\n",
        "info_all_platforms.plot(x='user_score',\n",
        "                        y='total_sales',\n",
        "                        ylim=(0, 2.0),\n",
        "                        kind='scatter',\n",
        "                        figsize=(11, 3),\n",
        "                        alpha=0.4,\n",
        "                        title='Диаграмма рассеивания по оценкам пользователей и общим продажам на всех платформах');"
      ],
      "execution_count": null,
      "outputs": [
        {
          "output_type": "display_data",
          "data": {
            "image/png": "[encoded data removed]",
            "text/plain": [
              "<Figure size 792x216 with 1 Axes>"
            ]
          },
          "metadata": {
            "tags": [],
            "needs_background": "light"
          }
        }
      ]
    },
    {
      "cell_type": "code",
      "metadata": {
        "id": "qhXYvHCEIqer",
        "outputId": "47183c1a-fd5f-460f-9cab-2efca7b131a7"
      },
      "source": [
        "corr_critic_sales_all = info_all_platforms['total_sales'].corr(info_all_platforms['critic_score'])\n",
        "print(f'Коэффициент корреляции оценки критиков с общими продажами: {corr_critic_sales_all}')\n",
        "print(f'Связь, в общем случае, сильнее на {corr_critic_sales_all - corr_critic_sales_ps4}\\n')\n",
        "\n",
        "corr_user_sales_all = info_all_platforms['total_sales'].corr(info_all_platforms['user_score'])\n",
        "print(f'Коэффициент корреляции оценки пользователей с общими продажами: {corr_user_sales_all}')\n",
        "print(f'Связь, в общем случае, сильнее на {corr_user_sales_all - corr_user_sales_ps4}')"
      ],
      "execution_count": null,
      "outputs": [
        {
          "output_type": "stream",
          "text": [
            "Коэффициент корреляции оценки критиков с общими продажами: 0.23043373766133185\n",
            "Связь, в общем случае, сильнее на -0.17613416440044916\n",
            "\n",
            "Коэффициент корреляции оценки пользователей с общими продажами: 0.08120167857026461\n",
            "Связь, в общем случае, сильнее на 0.11315878877482104\n"
          ],
          "name": "stdout"
        }
      ]
    },
    {
      "cell_type": "markdown",
      "metadata": {
        "id": "V6Akpy9rIqer"
      },
      "source": [
        "Исходя из полученных результатов можно сделать вывод, что оценки критиков и пользователей незначительно влияют на продажи: при покупке продукта, мнение критиков становится авторитетнее мнения других игроков, однако и то и то не оказывает сильного влияния на решение о приобретении.\n",
        "\n",
        "Такой результат может быть связан с подрывом доверия к оценочным ресурсам, а также со способом представления и распространения видеоигр как продуктов.\n",
        "\n",
        "В пользу первой гипотезы говорит как картина современного мира, так и количество пропусков в изначальных данных: примерно половина записей не имеет одной из этих оценок, что в свою очередь можно трактовать либо как недобросовестный сбор информации открытыми источниками, либо как проблему системы оценивания игр.\n",
        "\n",
        "Вторую гипотезу нельзя проверить по имеющимся данным, но современная модель распространения игр предполагает наличие широкого набора доступной информации о игре: трейлеры, фрагменты игрового процесса, обилие скриншотов и промо-материалов. Всё это современным пользователям даёт больше информации чем игровые оценки, хоть в ряде случаев и приводит к курьёзам и завышенным ожиданиям к игре."
      ]
    },
    {
      "cell_type": "markdown",
      "metadata": {
        "id": "A0My16OZIqes"
      },
      "source": [
        "### Влияние жанра игры на продажи"
      ]
    },
    {
      "cell_type": "markdown",
      "metadata": {
        "id": "qAcbUr14Iqes"
      },
      "source": [
        "Влияние оценок критиков и пользователей на продажи не оказалось значимым. Стоит проанализировать другие возможности - например, игровой жанр. Быть может, есть жанры которые особо выгодно продавать, или напротив - от которых стоит держаться подальше."
      ]
    },
    {
      "cell_type": "code",
      "metadata": {
        "scrolled": true,
        "id": "MLIL4mbjIqet",
        "outputId": "a4537925-53c3-4a53-a444-08e0b8f9613e"
      },
      "source": [
        "# Выделение жанров и их суммарных продаж\n",
        "genres_sales = df[['genre', 'total_sales']].groupby('genre').sum().reset_index().sort_values(by='total_sales',\n",
        "                                                                                             ascending=False)\n",
        "genres_sales"
      ],
      "execution_count": null,
      "outputs": [
        {
          "output_type": "execute_result",
          "data": {
            "text/html": [
              "<div>\n",
              "<style scoped>\n",
              "    .dataframe tbody tr th:only-of-type {\n",
              "        vertical-align: middle;\n",
              "    }\n",
              "\n",
              "    .dataframe tbody tr th {\n",
              "        vertical-align: top;\n",
              "    }\n",
              "\n",
              "    .dataframe thead th {\n",
              "        text-align: right;\n",
              "    }\n",
              "</style>\n",
              "<table border=\"1\" class=\"dataframe\">\n",
              "  <thead>\n",
              "    <tr style=\"text-align: right;\">\n",
              "      <th></th>\n",
              "      <th>genre</th>\n",
              "      <th>total_sales</th>\n",
              "    </tr>\n",
              "  </thead>\n",
              "  <tbody>\n",
              "    <tr>\n",
              "      <td>0</td>\n",
              "      <td>Action</td>\n",
              "      <td>1526.16</td>\n",
              "    </tr>\n",
              "    <tr>\n",
              "      <td>10</td>\n",
              "      <td>Sports</td>\n",
              "      <td>1130.92</td>\n",
              "    </tr>\n",
              "    <tr>\n",
              "      <td>8</td>\n",
              "      <td>Shooter</td>\n",
              "      <td>912.70</td>\n",
              "    </tr>\n",
              "    <tr>\n",
              "      <td>7</td>\n",
              "      <td>Role-Playing</td>\n",
              "      <td>731.22</td>\n",
              "    </tr>\n",
              "    <tr>\n",
              "      <td>3</td>\n",
              "      <td>Misc</td>\n",
              "      <td>718.35</td>\n",
              "    </tr>\n",
              "    <tr>\n",
              "      <td>6</td>\n",
              "      <td>Racing</td>\n",
              "      <td>561.06</td>\n",
              "    </tr>\n",
              "    <tr>\n",
              "      <td>4</td>\n",
              "      <td>Platform</td>\n",
              "      <td>494.42</td>\n",
              "    </tr>\n",
              "    <tr>\n",
              "      <td>9</td>\n",
              "      <td>Simulation</td>\n",
              "      <td>335.41</td>\n",
              "    </tr>\n",
              "    <tr>\n",
              "      <td>2</td>\n",
              "      <td>Fighting</td>\n",
              "      <td>311.90</td>\n",
              "    </tr>\n",
              "    <tr>\n",
              "      <td>1</td>\n",
              "      <td>Adventure</td>\n",
              "      <td>183.74</td>\n",
              "    </tr>\n",
              "    <tr>\n",
              "      <td>5</td>\n",
              "      <td>Puzzle</td>\n",
              "      <td>138.20</td>\n",
              "    </tr>\n",
              "    <tr>\n",
              "      <td>11</td>\n",
              "      <td>Strategy</td>\n",
              "      <td>115.07</td>\n",
              "    </tr>\n",
              "  </tbody>\n",
              "</table>\n",
              "</div>"
            ],
            "text/plain": [
              "           genre  total_sales\n",
              "0         Action      1526.16\n",
              "10        Sports      1130.92\n",
              "8        Shooter       912.70\n",
              "7   Role-Playing       731.22\n",
              "3           Misc       718.35\n",
              "6         Racing       561.06\n",
              "4       Platform       494.42\n",
              "9     Simulation       335.41\n",
              "2       Fighting       311.90\n",
              "1      Adventure       183.74\n",
              "5         Puzzle       138.20\n",
              "11      Strategy       115.07"
            ]
          },
          "metadata": {
            "tags": []
          },
          "execution_count": 49
        }
      ]
    },
    {
      "cell_type": "markdown",
      "metadata": {
        "id": "fiyYT_WsIqet"
      },
      "source": [
        "Для получившейся выборки информации о продажах, отсортированной по возрастанию значений, можно составить общий график. Это позволит наглядно определить самые популярные и непопулярные жанры."
      ]
    },
    {
      "cell_type": "code",
      "metadata": {
        "scrolled": true,
        "id": "-l76kPsnIqet",
        "outputId": "72d8b293-e65c-44f8-9ee3-3f0c7eed2aa1"
      },
      "source": [
        "genres_sales.plot(x='genre',\n",
        "                  y='total_sales',\n",
        "                  kind='bar',\n",
        "                  grid=True,\n",
        "                  figsize=(12, 4),\n",
        "                  title='Общее количество продаж в каждом жанре');"
      ],
      "execution_count": null,
      "outputs": [
        {
          "output_type": "display_data",
          "data": {
            "image/png": "[encoded data removed]",
            "text/plain": [
              "<Figure size 864x288 with 1 Axes>"
            ]
          },
          "metadata": {
            "tags": [],
            "needs_background": "light"
          }
        }
      ]
    },
    {
      "cell_type": "markdown",
      "metadata": {
        "id": "gNhVJCFpIqeu"
      },
      "source": [
        "Успех. По графику видно, что продажи игр в жанре **Action**, **Sports** и **Shooter** приносят больше всего денег, а **Strategy**, **Puzzle** и **Adventure** - меньше всего. Значит, увеличить продажи в магазине можно за счёт увеличения ассортимента игр жанров **Action**, **Sports** и **Shooter**, для самых современных платформ -  **PS4** и **XOne**."
      ]
    },
    {
      "cell_type": "markdown",
      "metadata": {
        "id": "Fznc_Wl-Iqeu"
      },
      "source": [
        "# Этап 4. Составление портрета пользователя для каждого региона"
      ]
    },
    {
      "cell_type": "markdown",
      "metadata": {
        "id": "bRmkz_t6Iqeu"
      },
      "source": [
        "## Региональный анализ популярности платформ"
      ]
    },
    {
      "cell_type": "markdown",
      "metadata": {
        "id": "e2PRWT5CIqeu"
      },
      "source": [
        "Продолжим исследование влияния свойств игрового продукта на продажи. В выборке представлены три основных региона: NA (Северная Америка), EU (Европа) и JP (Япония). В этих регионах разные культуры, что соответственно может означать разные критерии, которые сказываются на продажах.\n",
        "\n",
        "Так, начать проверку можно с анализа популярности платформ по регионам. Создадим отдельно графики топ-5 самых популярных платформ для каждого региона - это поможет избежать нечитаемых графиков для множества данных."
      ]
    },
    {
      "cell_type": "code",
      "metadata": {
        "id": "78CPg0GUIqev",
        "outputId": "3b593869-bae1-49d4-fc72-82df01f826be"
      },
      "source": [
        "# Заполнить информацию проще в цикле по столбцам - эта конструкция не самая быстрая, но улучшает читаемость\n",
        "for region in ['na_sales', 'eu_sales', 'jp_sales']:\n",
        "    # Заполнение информации о платформах региона\n",
        "    top5_platforms_in_region = df[['platform', region]].groupby('platform').sum().nlargest(5, region).reset_index()\n",
        "    # Добавление графика топ-5 платформ в региональную картину\n",
        "    top5_platforms_graphics = top5_platforms_in_region.plot(x='platform',\n",
        "                                                            kind='bar',\n",
        "                                                            grid=True,\n",
        "                                                            figsize=(12, 4),\n",
        "                                                            title=f'Топ-5 платформ региона {region[:2].upper()}');"
      ],
      "execution_count": null,
      "outputs": [
        {
          "output_type": "display_data",
          "data": {
            "image/png": "[encoded data removed]",
            "text/plain": [
              "<Figure size 864x288 with 1 Axes>"
            ]
          },
          "metadata": {
            "tags": [],
            "needs_background": "light"
          }
        },
        {
          "output_type": "display_data",
          "data": {
            "image/png": "[encoded data removed]",
            "text/plain": [
              "<Figure size 864x288 with 1 Axes>"
            ]
          },
          "metadata": {
            "tags": [],
            "needs_background": "light"
          }
        },
        {
          "output_type": "display_data",
          "data": {
            "image/png": "[encoded data removed]",
            "text/plain": [
              "<Figure size 864x288 with 1 Axes>"
            ]
          },
          "metadata": {
            "tags": [],
            "needs_background": "light"
          }
        }
      ]
    },
    {
      "cell_type": "markdown",
      "metadata": {
        "id": "tQ0GvCD5Iqev"
      },
      "source": [
        "Полученные данные однозначно подчёркивают различия в предпочтениях игроков разных регионов:  \n",
        "1) Пользователи региона NA приносят больше всего прибыли, и предпочитают платформы X360, PS2, Wii, PS3 и DS;  \n",
        "2) Пользователи региона EU предпочитают платформы PS2, PS3, X360, Wii и DS. Самая прибыльная платформа в регионе - PS2, но она приносит меньше прибыли чем 5-я платформа в американском топе - DS;  \n",
        "3) Пользователи региона JP приносят меньше всего прибыли и предпочитают платформы DS, PS2, 3DS, PS3 и PSP. Примечательно, что DS в топах предыдущих двух регионов находится на пятом месте, а в японском регионе - на первом. При этом, прибыль с этой платформы всё равно не превышает прибыль платформы в других регионах."
      ]
    },
    {
      "cell_type": "markdown",
      "metadata": {
        "id": "8bn_4ULOIqev"
      },
      "source": [
        "## Региональный анализ популярности жанров"
      ]
    },
    {
      "cell_type": "markdown",
      "metadata": {
        "id": "ds1u0l5CIqev"
      },
      "source": [
        "Так как между предпочтениями платформ и отношением к покупке игр, в регионах есть различия, то стоит отдельно исследовать и популярность жанров - в разных регионах исторически некоторые жанры могут вызывать особую симпатию или отторжение."
      ]
    },
    {
      "cell_type": "code",
      "metadata": {
        "id": "BOYRqnJoIqev",
        "outputId": "43905939-6fc4-44c5-ce03-eba5ff863617"
      },
      "source": [
        "for region in ['na_sales', 'eu_sales', 'jp_sales']:\n",
        "    # Заполнение информации о жанрах в регионе\n",
        "    top5_genres_in_region = df[['genre', region]].groupby('genre').sum().nlargest(5, region).reset_index()\n",
        "    # Добавление графика топ-5 жанров в региональную картину\n",
        "    top5_genres_graphics = top5_genres_in_region.plot(x='genre',\n",
        "                                                      kind='bar',\n",
        "                                                      grid=True,\n",
        "                                                      figsize=(12, 4),\n",
        "                                                      title=f'Топ-5 жанров региона {region[:2].upper()}');"
      ],
      "execution_count": null,
      "outputs": [
        {
          "output_type": "display_data",
          "data": {
            "image/png": "[encoded data removed]",
            "text/plain": [
              "<Figure size 864x288 with 1 Axes>"
            ]
          },
          "metadata": {
            "tags": [],
            "needs_background": "light"
          }
        },
        {
          "output_type": "display_data",
          "data": {
            "image/png": "[encoded data removed]",
            "text/plain": [
              "<Figure size 864x288 with 1 Axes>"
            ]
          },
          "metadata": {
            "tags": [],
            "needs_background": "light"
          }
        },
        {
          "output_type": "display_data",
          "data": {
            "image/png": "[encoded data removed]",
            "text/plain": [
              "<Figure size 864x288 with 1 Axes>"
            ]
          },
          "metadata": {
            "tags": [],
            "needs_background": "light"
          }
        }
      ]
    },
    {
      "cell_type": "markdown",
      "metadata": {
        "id": "OBC8AdTeIqew"
      },
      "source": [
        "Как и в случае с предпочтениями в платформах, пользователи разных регионов также предпочитают разные жанры. Ожидаемо, продажи в северо-американском регионе выше европейских, а европейские выше японских. При этом, в регионах NA и EU жанровые предпочтения практически совпадают, отличаясь лишь последним пунктом в топ-5. Объясняется это вполне закономерной схожестью преобладающих культур в регионе. В японском же регионе игроки отдают большее предпочтение РПГ играм, почти в два раза превышающее предпочтение к другим жанрам, таким как Action и Misc."
      ]
    },
    {
      "cell_type": "markdown",
      "metadata": {
        "id": "bIkSIseUIqew"
      },
      "source": [
        "## Региональный анализ влияния рейтинга ESRB на продажи"
      ]
    },
    {
      "cell_type": "markdown",
      "metadata": {
        "id": "DF3blEQSIqew"
      },
      "source": [
        "Исходя из различий и сходств культур в рассматриваемых регионах, можно выдвинуть ещё одно предположение - в разных регионах по разному учитывают возрастной рейтинг ESRB при покупке видеоигр. Ввиду ограниченного количества категориальных групп, можно проверить данное утверждение с применением общего графика продаж для всех рассматриваемых регионов.\n",
        "\n",
        "Построим необъодимый график и отсортируем возрастные категории по самому продаваемому региону - северо-американскому (NA)."
      ]
    },
    {
      "cell_type": "code",
      "metadata": {
        "id": "gpbEhDXZIqew",
        "outputId": "8bb417c8-06f2-4bb4-ac4f-ae01b4e84427"
      },
      "source": [
        "df[['rating',\n",
        "    'na_sales',\n",
        "    'eu_sales',\n",
        "    'jp_sales']].groupby('rating').sum().sort_values(ascending=False,\n",
        "                                                     by='na_sales').plot(kind='barh',\n",
        "                                                                         grid=True,\n",
        "                                                                         figsize=(16, 5),\n",
        "                                                                         title=f'Продажи по возрастным категориям в регионах');"
      ],
      "execution_count": null,
      "outputs": [
        {
          "output_type": "display_data",
          "data": {
            "image/png": "[encoded data removed]",
            "text/plain": [
              "<Figure size 1152x360 with 1 Axes>"
            ]
          },
          "metadata": {
            "tags": [],
            "needs_background": "light"
          }
        }
      ]
    },
    {
      "cell_type": "markdown",
      "metadata": {
        "id": "l0NclohNIqex"
      },
      "source": [
        "Построенный график демонстрирует схожесть продаж категорий в разных регионах: в зависимости от категории, продажи внутри региона повышаются или понижаются. Исключением из правила являются продажи тех игр, чья группа не была указана.\n",
        "\n",
        "Выведем статистику продаж по возрастным категориям внутри каждого региона - это поможет точнее определить проблему. Для лучшего восприятия проблематики TBD, датафреймы лучше выводить не в одной таблице, а по отдельности."
      ]
    },
    {
      "cell_type": "code",
      "metadata": {
        "id": "-d8Cc6q4Iqex",
        "outputId": "dbe19ca4-3214-48bf-976d-59053b217e43"
      },
      "source": [
        "for region in ['na_sales', 'eu_sales', 'jp_sales']:\n",
        "    print(f'Топ возрастных категорий для региона {region[:2].upper()}')\n",
        "    # Вывод информации о возрастных категориях в регионе\n",
        "    df[['rating', region]].groupby('rating').sum().sort_values(by=region, ascending=False).reset_index()"
      ],
      "execution_count": null,
      "outputs": [
        {
          "output_type": "stream",
          "text": [
            "Топ возрастных категорий для региона NA\n"
          ],
          "name": "stdout"
        },
        {
          "output_type": "execute_result",
          "data": {
            "text/html": [
              "<div>\n",
              "<style scoped>\n",
              "    .dataframe tbody tr th:only-of-type {\n",
              "        vertical-align: middle;\n",
              "    }\n",
              "\n",
              "    .dataframe tbody tr th {\n",
              "        vertical-align: top;\n",
              "    }\n",
              "\n",
              "    .dataframe thead th {\n",
              "        text-align: right;\n",
              "    }\n",
              "</style>\n",
              "<table border=\"1\" class=\"dataframe\">\n",
              "  <thead>\n",
              "    <tr style=\"text-align: right;\">\n",
              "      <th></th>\n",
              "      <th>rating</th>\n",
              "      <th>na_sales</th>\n",
              "    </tr>\n",
              "  </thead>\n",
              "  <tbody>\n",
              "    <tr>\n",
              "      <td>0</td>\n",
              "      <td>E</td>\n",
              "      <td>1249.26</td>\n",
              "    </tr>\n",
              "    <tr>\n",
              "      <td>1</td>\n",
              "      <td>M</td>\n",
              "      <td>727.80</td>\n",
              "    </tr>\n",
              "    <tr>\n",
              "      <td>2</td>\n",
              "      <td>T</td>\n",
              "      <td>709.86</td>\n",
              "    </tr>\n",
              "    <tr>\n",
              "      <td>3</td>\n",
              "      <td>TBD</td>\n",
              "      <td>494.40</td>\n",
              "    </tr>\n",
              "    <tr>\n",
              "      <td>4</td>\n",
              "      <td>E10+</td>\n",
              "      <td>345.50</td>\n",
              "    </tr>\n",
              "    <tr>\n",
              "      <td>5</td>\n",
              "      <td>EC</td>\n",
              "      <td>1.53</td>\n",
              "    </tr>\n",
              "    <tr>\n",
              "      <td>6</td>\n",
              "      <td>AO</td>\n",
              "      <td>1.26</td>\n",
              "    </tr>\n",
              "    <tr>\n",
              "      <td>7</td>\n",
              "      <td>RP</td>\n",
              "      <td>0.00</td>\n",
              "    </tr>\n",
              "  </tbody>\n",
              "</table>\n",
              "</div>"
            ],
            "text/plain": [
              "  rating  na_sales\n",
              "0      E   1249.26\n",
              "1      M    727.80\n",
              "2      T    709.86\n",
              "3    TBD    494.40\n",
              "4   E10+    345.50\n",
              "5     EC      1.53\n",
              "6     AO      1.26\n",
              "7     RP      0.00"
            ]
          },
          "metadata": {
            "tags": []
          },
          "execution_count": 54
        },
        {
          "output_type": "stream",
          "text": [
            "Топ возрастных категорий для региона EU\n"
          ],
          "name": "stdout"
        },
        {
          "output_type": "execute_result",
          "data": {
            "text/html": [
              "<div>\n",
              "<style scoped>\n",
              "    .dataframe tbody tr th:only-of-type {\n",
              "        vertical-align: middle;\n",
              "    }\n",
              "\n",
              "    .dataframe tbody tr th {\n",
              "        vertical-align: top;\n",
              "    }\n",
              "\n",
              "    .dataframe thead th {\n",
              "        text-align: right;\n",
              "    }\n",
              "</style>\n",
              "<table border=\"1\" class=\"dataframe\">\n",
              "  <thead>\n",
              "    <tr style=\"text-align: right;\">\n",
              "      <th></th>\n",
              "      <th>rating</th>\n",
              "      <th>eu_sales</th>\n",
              "    </tr>\n",
              "  </thead>\n",
              "  <tbody>\n",
              "    <tr>\n",
              "      <td>0</td>\n",
              "      <td>E</td>\n",
              "      <td>690.61</td>\n",
              "    </tr>\n",
              "    <tr>\n",
              "      <td>1</td>\n",
              "      <td>M</td>\n",
              "      <td>472.40</td>\n",
              "    </tr>\n",
              "    <tr>\n",
              "      <td>2</td>\n",
              "      <td>T</td>\n",
              "      <td>392.71</td>\n",
              "    </tr>\n",
              "    <tr>\n",
              "      <td>3</td>\n",
              "      <td>TBD</td>\n",
              "      <td>345.81</td>\n",
              "    </tr>\n",
              "    <tr>\n",
              "      <td>4</td>\n",
              "      <td>E10+</td>\n",
              "      <td>183.33</td>\n",
              "    </tr>\n",
              "    <tr>\n",
              "      <td>5</td>\n",
              "      <td>AO</td>\n",
              "      <td>0.61</td>\n",
              "    </tr>\n",
              "    <tr>\n",
              "      <td>6</td>\n",
              "      <td>EC</td>\n",
              "      <td>0.11</td>\n",
              "    </tr>\n",
              "    <tr>\n",
              "      <td>7</td>\n",
              "      <td>RP</td>\n",
              "      <td>0.03</td>\n",
              "    </tr>\n",
              "  </tbody>\n",
              "</table>\n",
              "</div>"
            ],
            "text/plain": [
              "  rating  eu_sales\n",
              "0      E    690.61\n",
              "1      M    472.40\n",
              "2      T    392.71\n",
              "3    TBD    345.81\n",
              "4   E10+    183.33\n",
              "5     AO      0.61\n",
              "6     EC      0.11\n",
              "7     RP      0.03"
            ]
          },
          "metadata": {
            "tags": []
          },
          "execution_count": 54
        },
        {
          "output_type": "stream",
          "text": [
            "Топ возрастных категорий для региона JP\n"
          ],
          "name": "stdout"
        },
        {
          "output_type": "execute_result",
          "data": {
            "text/html": [
              "<div>\n",
              "<style scoped>\n",
              "    .dataframe tbody tr th:only-of-type {\n",
              "        vertical-align: middle;\n",
              "    }\n",
              "\n",
              "    .dataframe tbody tr th {\n",
              "        vertical-align: top;\n",
              "    }\n",
              "\n",
              "    .dataframe thead th {\n",
              "        text-align: right;\n",
              "    }\n",
              "</style>\n",
              "<table border=\"1\" class=\"dataframe\">\n",
              "  <thead>\n",
              "    <tr style=\"text-align: right;\">\n",
              "      <th></th>\n",
              "      <th>rating</th>\n",
              "      <th>jp_sales</th>\n",
              "    </tr>\n",
              "  </thead>\n",
              "  <tbody>\n",
              "    <tr>\n",
              "      <td>0</td>\n",
              "      <td>TBD</td>\n",
              "      <td>396.86</td>\n",
              "    </tr>\n",
              "    <tr>\n",
              "      <td>1</td>\n",
              "      <td>E</td>\n",
              "      <td>189.91</td>\n",
              "    </tr>\n",
              "    <tr>\n",
              "      <td>2</td>\n",
              "      <td>T</td>\n",
              "      <td>131.01</td>\n",
              "    </tr>\n",
              "    <tr>\n",
              "      <td>3</td>\n",
              "      <td>M</td>\n",
              "      <td>57.84</td>\n",
              "    </tr>\n",
              "    <tr>\n",
              "      <td>4</td>\n",
              "      <td>E10+</td>\n",
              "      <td>40.20</td>\n",
              "    </tr>\n",
              "    <tr>\n",
              "      <td>5</td>\n",
              "      <td>AO</td>\n",
              "      <td>0.00</td>\n",
              "    </tr>\n",
              "    <tr>\n",
              "      <td>6</td>\n",
              "      <td>EC</td>\n",
              "      <td>0.00</td>\n",
              "    </tr>\n",
              "    <tr>\n",
              "      <td>7</td>\n",
              "      <td>RP</td>\n",
              "      <td>0.00</td>\n",
              "    </tr>\n",
              "  </tbody>\n",
              "</table>\n",
              "</div>"
            ],
            "text/plain": [
              "  rating  jp_sales\n",
              "0    TBD    396.86\n",
              "1      E    189.91\n",
              "2      T    131.01\n",
              "3      M     57.84\n",
              "4   E10+     40.20\n",
              "5     AO      0.00\n",
              "6     EC      0.00\n",
              "7     RP      0.00"
            ]
          },
          "metadata": {
            "tags": []
          },
          "execution_count": 54
        }
      ]
    },
    {
      "cell_type": "markdown",
      "metadata": {
        "id": "1GnMPq5mIqex"
      },
      "source": [
        "Три получившихся топа отображают проблему отсутствующих данных более явно чем если бы они были представлены в одной выборке. Так, обнаружилось, что в северо-американском и европейском регионе отсутствующих значений хватило на 4-е место в топе, а в японском топе, TBD превозшло любую другую категорию.\n",
        "\n",
        "Также, в каждом из регионов есть три возрастных группы, игры в которых практически не имеют продаж - **AO** *(Только для взрослых 18+)*, **EC** *(Для детей младшего возраста 3+)*, и **RP** *(Рейтинг ожидается)*. В случае группы RP, почти полное отсутствие продаж объясняется значением категории: она используется только на рекламных презентациях и в демо-версиях игр до официальной даты выпуска в продажу.\n",
        "\n",
        "С другими двумя категориями, отсутствие продаж крайне сомнительно - игры для взрослых, а также развивающие игры для малышей, хоть и имеют сравнительно низкие продажи ввиду своей специфики, в ряде случаев приносят высокую прибыль издателям. Примером таких прибылей являются игры серии GTA компании RockStar (*распространяются на многих платформах включая PC и PS4, имеют рейтинг AO*) и видеоигры бренда Barbie различных компаний (*распространяются преимущественно на PC и платформах серии PS*).\n",
        "\n",
        "Но, на основании одного лишь предположения и нехватки информации о категориях, нельзя осуществить очевидное решение - разделить продажи импровизированной категорию TBD в пользу категорий AO и EC. В исследуемой выборке недостаточно информации для выявления зависимостей такого распределения: например, непонятно, по какому правилу делить продажи категории на две части. Также, возможно, что данные в категории TBD принадлежат не двум обделённым категориям, а включают в себя и остальные группы рейтинга. Следовательно, что-то изменить в существующих данных нельзя, но лучше обратиться с этой проблемой к источникам данных."
      ]
    },
    {
      "cell_type": "markdown",
      "metadata": {
        "id": "KQfcibanIqey"
      },
      "source": [
        "Обобщённо же, гипотеза взаимосвязи продаж и жанра подтвердилась лишь в общем случае - возрастные категории действительно влияют на рейтинг продаж: игры с рейтингом E, T, M и E10+ имеют наибольшую продаваемость во всех рассматриваемых регионах. Это правило, как можно увидеть по представленным датафреймам рейтингов, имеет слабо выраженную разницу между регионами - одна и та же возрастная категория, при сравнении с её позицией в рейтинге другого региона, может \"плавать\" не более чем на 1-2 позиции. \n",
        "\n",
        "Следовательно, на возрастные категории стоит смотреть при планировании закупок для высоких продаж, но на сам регион в этом конкретном случае можно не обращать внимания."
      ]
    },
    {
      "cell_type": "markdown",
      "metadata": {
        "id": "caFX7V7gIqey"
      },
      "source": [
        "# Этап 5. Исследование статистических показателей"
      ]
    },
    {
      "cell_type": "markdown",
      "metadata": {
        "id": "qbdzO6E6Iqez"
      },
      "source": [
        "Как показали предыдущие исследования, жанр оказывает существенное влияние на продажи игрового продукта и на предпочтения пользователей в разных регионах. Логично предположить, что пользовательский рейтинг и рейтинг критиков могут существенно изменяться в зависимости от жанра.\n",
        "\n",
        "В текущих системах оценок, анализ оценок не будет интуитивно понятным - столбцы отмасштабированы по разному. Решение проблемы простое: их нужно нормализовать. Но, в данном случае можно обойтись без сложных систем нормализации. Согласно исходным условиям, оценки критиков варьируются от 0 до 100, а оценки пользователей - от 0 до 10. Самым простым решением здесь будет увеличение значений столбца оценок критиков в десять раз - так мы не потеряем важные данные и нормализуем выборку."
      ]
    },
    {
      "cell_type": "code",
      "metadata": {
        "scrolled": true,
        "id": "Z0o3f3z2Iqez",
        "outputId": "4a92c71e-501d-44b5-9d75-dc6e3afb953b"
      },
      "source": [
        "# Выборка жанров и оценок\n",
        "genres_scores = df[['genre', 'critic_score', 'user_score']]\n",
        "\n",
        "# Отключаем оповещение, которое ложноположительно возникает в этой версии pandas\n",
        "pd.options.mode.chained_assignment = None\n",
        "# Нормализуем столбец оценок пользователей со столбцом оценок критиков\n",
        "genres_scores['user_score'] = genres_scores['user_score'].multiply(10)\n",
        "genres_scores.head()\n",
        "\n",
        "# Включаем оповещение обратно, которое ложноположительно возникает в этой версии pandas\n",
        "pd.options.mode.chained_assignment = 'warn'"
      ],
      "execution_count": null,
      "outputs": [
        {
          "output_type": "execute_result",
          "data": {
            "text/html": [
              "<div>\n",
              "<style scoped>\n",
              "    .dataframe tbody tr th:only-of-type {\n",
              "        vertical-align: middle;\n",
              "    }\n",
              "\n",
              "    .dataframe tbody tr th {\n",
              "        vertical-align: top;\n",
              "    }\n",
              "\n",
              "    .dataframe thead th {\n",
              "        text-align: right;\n",
              "    }\n",
              "</style>\n",
              "<table border=\"1\" class=\"dataframe\">\n",
              "  <thead>\n",
              "    <tr style=\"text-align: right;\">\n",
              "      <th></th>\n",
              "      <th>genre</th>\n",
              "      <th>critic_score</th>\n",
              "      <th>user_score</th>\n",
              "    </tr>\n",
              "  </thead>\n",
              "  <tbody>\n",
              "    <tr>\n",
              "      <td>0</td>\n",
              "      <td>Sports</td>\n",
              "      <td>76.0</td>\n",
              "      <td>80.0</td>\n",
              "    </tr>\n",
              "    <tr>\n",
              "      <td>2</td>\n",
              "      <td>Racing</td>\n",
              "      <td>82.0</td>\n",
              "      <td>83.0</td>\n",
              "    </tr>\n",
              "    <tr>\n",
              "      <td>3</td>\n",
              "      <td>Sports</td>\n",
              "      <td>80.0</td>\n",
              "      <td>80.0</td>\n",
              "    </tr>\n",
              "    <tr>\n",
              "      <td>6</td>\n",
              "      <td>Platform</td>\n",
              "      <td>89.0</td>\n",
              "      <td>85.0</td>\n",
              "    </tr>\n",
              "    <tr>\n",
              "      <td>7</td>\n",
              "      <td>Misc</td>\n",
              "      <td>58.0</td>\n",
              "      <td>66.0</td>\n",
              "    </tr>\n",
              "  </tbody>\n",
              "</table>\n",
              "</div>"
            ],
            "text/plain": [
              "      genre  critic_score  user_score\n",
              "0    Sports          76.0        80.0\n",
              "2    Racing          82.0        83.0\n",
              "3    Sports          80.0        80.0\n",
              "6  Platform          89.0        85.0\n",
              "7      Misc          58.0        66.0"
            ]
          },
          "metadata": {
            "tags": []
          },
          "execution_count": 55
        }
      ]
    },
    {
      "cell_type": "markdown",
      "metadata": {
        "id": "TnSCnWTyIqez"
      },
      "source": [
        "Получившуюся выборку можно сгруппировать для каждого жанра и проанализировать с помощью описательных статистик - средней оценки, дисперсии и стандартного отклонения. При их расчёте важно помнить, что анализируется выборка из изначальной генеральной совокупности - устаревшие и неточные данные были удалены из неё. Рассмотрим отдельно оценки критиков и оценки пользователей."
      ]
    },
    {
      "cell_type": "markdown",
      "metadata": {
        "id": "kBPsUx8SIqez"
      },
      "source": [
        "### Описательные статистики оценок критиков для каждого жанра"
      ]
    },
    {
      "cell_type": "code",
      "metadata": {
        "scrolled": false,
        "id": "7pRqk-2HIqez",
        "outputId": "d6cba485-764b-45a7-d1cc-575f7e0a1024"
      },
      "source": [
        "# Описательные статистики оценок критиков в зависимости от жанра\n",
        "genres_critic = genres_scores[['genre',\n",
        "                               'critic_score']].groupby('genre').agg(['mean',\n",
        "                                                                      'var',\n",
        "                                                                      'std'])['critic_score']\n",
        "\n",
        "genres_critic.sort_values(by='mean', ascending=False).reset_index()"
      ],
      "execution_count": null,
      "outputs": [
        {
          "output_type": "execute_result",
          "data": {
            "text/html": [
              "<div>\n",
              "<style scoped>\n",
              "    .dataframe tbody tr th:only-of-type {\n",
              "        vertical-align: middle;\n",
              "    }\n",
              "\n",
              "    .dataframe tbody tr th {\n",
              "        vertical-align: top;\n",
              "    }\n",
              "\n",
              "    .dataframe thead th {\n",
              "        text-align: right;\n",
              "    }\n",
              "</style>\n",
              "<table border=\"1\" class=\"dataframe\">\n",
              "  <thead>\n",
              "    <tr style=\"text-align: right;\">\n",
              "      <th></th>\n",
              "      <th>genre</th>\n",
              "      <th>mean</th>\n",
              "      <th>var</th>\n",
              "      <th>std</th>\n",
              "    </tr>\n",
              "  </thead>\n",
              "  <tbody>\n",
              "    <tr>\n",
              "      <td>0</td>\n",
              "      <td>Role-Playing</td>\n",
              "      <td>72.370423</td>\n",
              "      <td>142.879519</td>\n",
              "      <td>11.953222</td>\n",
              "    </tr>\n",
              "    <tr>\n",
              "      <td>1</td>\n",
              "      <td>Strategy</td>\n",
              "      <td>72.068966</td>\n",
              "      <td>135.137096</td>\n",
              "      <td>11.624848</td>\n",
              "    </tr>\n",
              "    <tr>\n",
              "      <td>2</td>\n",
              "      <td>Sports</td>\n",
              "      <td>71.969854</td>\n",
              "      <td>193.537884</td>\n",
              "      <td>13.911789</td>\n",
              "    </tr>\n",
              "    <tr>\n",
              "      <td>3</td>\n",
              "      <td>Shooter</td>\n",
              "      <td>70.187773</td>\n",
              "      <td>210.222626</td>\n",
              "      <td>14.499056</td>\n",
              "    </tr>\n",
              "    <tr>\n",
              "      <td>4</td>\n",
              "      <td>Fighting</td>\n",
              "      <td>68.919192</td>\n",
              "      <td>199.056745</td>\n",
              "      <td>14.108747</td>\n",
              "    </tr>\n",
              "    <tr>\n",
              "      <td>5</td>\n",
              "      <td>Simulation</td>\n",
              "      <td>68.368732</td>\n",
              "      <td>153.635824</td>\n",
              "      <td>12.394992</td>\n",
              "    </tr>\n",
              "    <tr>\n",
              "      <td>6</td>\n",
              "      <td>Platform</td>\n",
              "      <td>67.902893</td>\n",
              "      <td>171.682062</td>\n",
              "      <td>13.102750</td>\n",
              "    </tr>\n",
              "    <tr>\n",
              "      <td>7</td>\n",
              "      <td>Racing</td>\n",
              "      <td>67.778711</td>\n",
              "      <td>200.669055</td>\n",
              "      <td>14.165771</td>\n",
              "    </tr>\n",
              "    <tr>\n",
              "      <td>8</td>\n",
              "      <td>Puzzle</td>\n",
              "      <td>67.105505</td>\n",
              "      <td>162.601721</td>\n",
              "      <td>12.751538</td>\n",
              "    </tr>\n",
              "    <tr>\n",
              "      <td>9</td>\n",
              "      <td>Misc</td>\n",
              "      <td>66.599606</td>\n",
              "      <td>196.315652</td>\n",
              "      <td>14.011269</td>\n",
              "    </tr>\n",
              "    <tr>\n",
              "      <td>10</td>\n",
              "      <td>Action</td>\n",
              "      <td>66.570185</td>\n",
              "      <td>199.140145</td>\n",
              "      <td>14.111702</td>\n",
              "    </tr>\n",
              "    <tr>\n",
              "      <td>11</td>\n",
              "      <td>Adventure</td>\n",
              "      <td>65.219745</td>\n",
              "      <td>190.894050</td>\n",
              "      <td>13.816441</td>\n",
              "    </tr>\n",
              "  </tbody>\n",
              "</table>\n",
              "</div>"
            ],
            "text/plain": [
              "           genre       mean         var        std\n",
              "0   Role-Playing  72.370423  142.879519  11.953222\n",
              "1       Strategy  72.068966  135.137096  11.624848\n",
              "2         Sports  71.969854  193.537884  13.911789\n",
              "3        Shooter  70.187773  210.222626  14.499056\n",
              "4       Fighting  68.919192  199.056745  14.108747\n",
              "5     Simulation  68.368732  153.635824  12.394992\n",
              "6       Platform  67.902893  171.682062  13.102750\n",
              "7         Racing  67.778711  200.669055  14.165771\n",
              "8         Puzzle  67.105505  162.601721  12.751538\n",
              "9           Misc  66.599606  196.315652  14.011269\n",
              "10        Action  66.570185  199.140145  14.111702\n",
              "11     Adventure  65.219745  190.894050  13.816441"
            ]
          },
          "metadata": {
            "tags": []
          },
          "execution_count": 56
        }
      ]
    },
    {
      "cell_type": "markdown",
      "metadata": {
        "id": "Ggz0vDcyIqe0"
      },
      "source": [
        "Первое впечатление о получившемся наборе описательных статистик таково, что жанры в среднем описываются одинаково - общая средняя оценка от критиков лежит около отметки в 70 баллов. Эта гипотеза подтверждается показателем среднего отклонения - он не очень сильно отличается во всех жанрах. Преимущественно, баллы в жанрах отклоняются от среднего балла на 11-14 баллов. Визуализируем описательные статистики для жанров выборки."
      ]
    },
    {
      "cell_type": "code",
      "metadata": {
        "scrolled": false,
        "id": "TrgnMFOAIqe1",
        "outputId": "2e7465f5-49f8-456b-e005-caad8501a079"
      },
      "source": [
        "for stat in ['mean', 'var', 'std']:\n",
        "    graphic_critic = genres_critic.sort_values(by=stat).plot(y=stat,\n",
        "                                                             kind='bar',\n",
        "                                                             grid=True,\n",
        "                                                             figsize=(12, 4),\n",
        "                                                             title=f'Описательная статистика {stat} оценок критиков по жанрам');\n",
        "\n",
        "graphic_critic;"
      ],
      "execution_count": null,
      "outputs": [
        {
          "output_type": "display_data",
          "data": {
            "image/png": "[encoded data removed]",
            "text/plain": [
              "<Figure size 864x288 with 1 Axes>"
            ]
          },
          "metadata": {
            "tags": [],
            "needs_background": "light"
          }
        },
        {
          "output_type": "display_data",
          "data": {
            "image/png": "[encoded data removed]",
            "text/plain": [
              "<Figure size 864x288 with 1 Axes>"
            ]
          },
          "metadata": {
            "tags": [],
            "needs_background": "light"
          }
        },
        {
          "output_type": "display_data",
          "data": {
            "image/png": "[encoded data removed]",
            "text/plain": [
              "<Figure size 864x288 with 1 Axes>"
            ]
          },
          "metadata": {
            "tags": [],
            "needs_background": "light"
          }
        }
      ]
    },
    {
      "cell_type": "markdown",
      "metadata": {
        "id": "if1WZfZ8Iqe1"
      },
      "source": [
        "Построенные графики наглядно подтверждают предыдущие выводы. В среднем, оценка игры критиками стремится к отметке в 70 баллов, независимо от жанра. \n",
        "\n",
        "Но при этом, жанр действительно влияет на разброс оценок. Так, жанры **Misc**, **Shooter** и **Action** обладают наибольшей дисперсией и стандартным отклонением. Это говорит о широком варьировании оценок.  \n",
        "В то же время, варьирование оценок происходит и в жанрах с относительно низкими описательными статистиками - **Strategy**, **Role-Playing** и **Simulation**. Данный факт говорит либо о нечестном выставлении баллов, либо, что более вероятно, о стабильности и справедливости оценивания данных жанров.  \n",
        "\n",
        "Полученные данные о стабильности в оценивании жанров позволяют воспользоваться ещё одним аналитическим методом - построить обобщённую плотность распределения баллов для всех жанров."
      ]
    },
    {
      "cell_type": "code",
      "metadata": {
        "scrolled": true,
        "id": "kFRiNuHlIqe2",
        "outputId": "877dba18-80de-4dc3-db5a-54cdf6d32cd8"
      },
      "source": [
        "df[['genre', 'critic_score']].hist(grid=True,\n",
        "                                   figsize=(12, 4),\n",
        "                                   bins=17);"
      ],
      "execution_count": null,
      "outputs": [
        {
          "output_type": "display_data",
          "data": {
            "image/png": "[encoded data removed]",
            "text/plain": [
              "<Figure size 864x288 with 1 Axes>"
            ]
          },
          "metadata": {
            "tags": [],
            "needs_background": "light"
          }
        }
      ]
    },
    {
      "cell_type": "markdown",
      "metadata": {
        "id": "yU6j5ev0Iqe2"
      },
      "source": [
        "Полученная плотность распределения говорит о скошенности набора данных влево (отрицательная скошенность). Но в целом, распределение вполне равномерно. Если бы на стадии предобработки использовалось заполнение пропусков медианным значением, то картина существенно отличалась бы - на месте медианной группы значений возвышался бы огромный выброс по количеству значений."
      ]
    },
    {
      "cell_type": "markdown",
      "metadata": {
        "id": "SBUhKXtUIqe2"
      },
      "source": [
        "### Описательные статистики оценок пользователей для каждого жанра"
      ]
    },
    {
      "cell_type": "markdown",
      "metadata": {
        "id": "gcGTvSazIqe2"
      },
      "source": [
        "Аналогичным образом, исследуем описательные статистики нормализованных оценок пользователей по каждому жанру. Проверим, соблюдается ли стабильность оценивания для этого случая."
      ]
    },
    {
      "cell_type": "code",
      "metadata": {
        "scrolled": true,
        "id": "W0SIwBlFIqe2",
        "outputId": "1188366f-0eae-437f-b801-5c22bf48ecfe"
      },
      "source": [
        "# Описательные статистики оценок пользователей в зависимости от жанра\n",
        "genres_user = genres_scores[['genre',\n",
        "                             'user_score']].groupby('genre').agg(['mean',\n",
        "                                                                  'var',\n",
        "                                                                  'std'])['user_score']\n",
        "\n",
        "genres_user.sort_values(by='mean', ascending=False).reset_index()"
      ],
      "execution_count": null,
      "outputs": [
        {
          "output_type": "execute_result",
          "data": {
            "text/html": [
              "<div>\n",
              "<style scoped>\n",
              "    .dataframe tbody tr th:only-of-type {\n",
              "        vertical-align: middle;\n",
              "    }\n",
              "\n",
              "    .dataframe tbody tr th {\n",
              "        vertical-align: top;\n",
              "    }\n",
              "\n",
              "    .dataframe thead th {\n",
              "        text-align: right;\n",
              "    }\n",
              "</style>\n",
              "<table border=\"1\" class=\"dataframe\">\n",
              "  <thead>\n",
              "    <tr style=\"text-align: right;\">\n",
              "      <th></th>\n",
              "      <th>genre</th>\n",
              "      <th>mean</th>\n",
              "      <th>var</th>\n",
              "      <th>std</th>\n",
              "    </tr>\n",
              "  </thead>\n",
              "  <tbody>\n",
              "    <tr>\n",
              "      <td>0</td>\n",
              "      <td>Role-Playing</td>\n",
              "      <td>75.979050</td>\n",
              "      <td>118.826134</td>\n",
              "      <td>10.900740</td>\n",
              "    </tr>\n",
              "    <tr>\n",
              "      <td>1</td>\n",
              "      <td>Platform</td>\n",
              "      <td>72.846890</td>\n",
              "      <td>228.034055</td>\n",
              "      <td>15.100797</td>\n",
              "    </tr>\n",
              "    <tr>\n",
              "      <td>2</td>\n",
              "      <td>Fighting</td>\n",
              "      <td>72.790155</td>\n",
              "      <td>198.820786</td>\n",
              "      <td>14.100382</td>\n",
              "    </tr>\n",
              "    <tr>\n",
              "      <td>3</td>\n",
              "      <td>Strategy</td>\n",
              "      <td>72.500000</td>\n",
              "      <td>269.069966</td>\n",
              "      <td>16.403352</td>\n",
              "    </tr>\n",
              "    <tr>\n",
              "      <td>4</td>\n",
              "      <td>Simulation</td>\n",
              "      <td>71.319277</td>\n",
              "      <td>256.254250</td>\n",
              "      <td>16.007943</td>\n",
              "    </tr>\n",
              "    <tr>\n",
              "      <td>5</td>\n",
              "      <td>Adventure</td>\n",
              "      <td>71.308475</td>\n",
              "      <td>272.023567</td>\n",
              "      <td>16.493137</td>\n",
              "    </tr>\n",
              "    <tr>\n",
              "      <td>6</td>\n",
              "      <td>Puzzle</td>\n",
              "      <td>71.268293</td>\n",
              "      <td>232.591363</td>\n",
              "      <td>15.250946</td>\n",
              "    </tr>\n",
              "    <tr>\n",
              "      <td>7</td>\n",
              "      <td>Shooter</td>\n",
              "      <td>70.458889</td>\n",
              "      <td>226.224114</td>\n",
              "      <td>15.040748</td>\n",
              "    </tr>\n",
              "    <tr>\n",
              "      <td>8</td>\n",
              "      <td>Action</td>\n",
              "      <td>70.456485</td>\n",
              "      <td>202.360605</td>\n",
              "      <td>14.225351</td>\n",
              "    </tr>\n",
              "    <tr>\n",
              "      <td>9</td>\n",
              "      <td>Racing</td>\n",
              "      <td>70.179032</td>\n",
              "      <td>239.675489</td>\n",
              "      <td>15.481456</td>\n",
              "    </tr>\n",
              "    <tr>\n",
              "      <td>10</td>\n",
              "      <td>Sports</td>\n",
              "      <td>69.477294</td>\n",
              "      <td>262.038213</td>\n",
              "      <td>16.187594</td>\n",
              "    </tr>\n",
              "    <tr>\n",
              "      <td>11</td>\n",
              "      <td>Misc</td>\n",
              "      <td>67.995316</td>\n",
              "      <td>241.572748</td>\n",
              "      <td>15.542611</td>\n",
              "    </tr>\n",
              "  </tbody>\n",
              "</table>\n",
              "</div>"
            ],
            "text/plain": [
              "           genre       mean         var        std\n",
              "0   Role-Playing  75.979050  118.826134  10.900740\n",
              "1       Platform  72.846890  228.034055  15.100797\n",
              "2       Fighting  72.790155  198.820786  14.100382\n",
              "3       Strategy  72.500000  269.069966  16.403352\n",
              "4     Simulation  71.319277  256.254250  16.007943\n",
              "5      Adventure  71.308475  272.023567  16.493137\n",
              "6         Puzzle  71.268293  232.591363  15.250946\n",
              "7        Shooter  70.458889  226.224114  15.040748\n",
              "8         Action  70.456485  202.360605  14.225351\n",
              "9         Racing  70.179032  239.675489  15.481456\n",
              "10        Sports  69.477294  262.038213  16.187594\n",
              "11          Misc  67.995316  241.572748  15.542611"
            ]
          },
          "metadata": {
            "tags": []
          },
          "execution_count": 59
        }
      ]
    },
    {
      "cell_type": "markdown",
      "metadata": {
        "id": "9OlisuiqIqe3"
      },
      "source": [
        "Как и в случае с оценками критиков, средняя оценка стремится к 70 баллам. Однако, стандартное отклонение имеет больший разброс. Понаблюдаем статистики на графиках."
      ]
    },
    {
      "cell_type": "code",
      "metadata": {
        "id": "37lhHDB9Iqe3",
        "outputId": "7842c3fe-6d5f-4503-9db3-0e89c930a2ed"
      },
      "source": [
        "for stat in ['mean', 'var', 'std']:\n",
        "    graphics_user = genres_user.sort_values(by=stat).plot(y=stat,\n",
        "                                                          kind='bar',\n",
        "                                                          grid=True,\n",
        "                                                          figsize=(12, 4),\n",
        "                                                          title=f'Описательная статистика {stat} оценок игроков по жанрам');\n",
        "\n",
        "graphics_user;"
      ],
      "execution_count": null,
      "outputs": [
        {
          "output_type": "display_data",
          "data": {
            "image/png": "[encoded data removed]",
            "text/plain": [
              "<Figure size 864x288 with 1 Axes>"
            ]
          },
          "metadata": {
            "tags": [],
            "needs_background": "light"
          }
        },
        {
          "output_type": "display_data",
          "data": {
            "image/png": "[encoded data removed]",
            "text/plain": [
              "<Figure size 864x288 with 1 Axes>"
            ]
          },
          "metadata": {
            "tags": [],
            "needs_background": "light"
          }
        },
        {
          "output_type": "display_data",
          "data": {
            "image/png": "[encoded data removed]",
            "text/plain": [
              "<Figure size 864x288 with 1 Axes>"
            ]
          },
          "metadata": {
            "tags": [],
            "needs_background": "light"
          }
        }
      ]
    },
    {
      "cell_type": "markdown",
      "metadata": {
        "id": "EsrDBDnlIqe3"
      },
      "source": [
        "Как и критикам, пользователям важен жанр игры при выставлении оценки. Так, в жанрах **Adventure**, **Strategy** и **Simulation** наибольший разброс баллов, а в жанрах **Role-Playing**, **Puzzle** и **Action** - он минимален. Для критиков набор жанров отличался: жанры с наибольшим разбросом баллов - **Misc**, **Shooter** и **Action**, а с наименьшим - **Strategy**, **Role-Playing** и **Simulation**.\n",
        "\n",
        "Следовательно, как для критиков так и для пользователей, жанр игры оказывает влияние на выбор оценки. Однако, как видно из показателей разброса, этот выбор не превышает 15 баллов в ту или иную сторону.\n",
        "\n",
        "Построим гистограмму плотности распределения и для этого случая - она поможет потвердить правильность анализа."
      ]
    },
    {
      "cell_type": "code",
      "metadata": {
        "scrolled": true,
        "id": "3oBCSgRiIqe3",
        "outputId": "0c5779f4-4db2-41e5-a1b9-07bfb4a4da7b"
      },
      "source": [
        "df[['genre', 'user_score']].hist(grid=True, figsize=(12, 4), bins=16);"
      ],
      "execution_count": null,
      "outputs": [
        {
          "output_type": "display_data",
          "data": {
            "image/png": "[encoded data removed]",
            "text/plain": [
              "<Figure size 864x288 with 1 Axes>"
            ]
          },
          "metadata": {
            "tags": [],
            "needs_background": "light"
          }
        }
      ]
    },
    {
      "cell_type": "markdown",
      "metadata": {
        "id": "Z1Pt-8J5Iqe4"
      },
      "source": [
        "Всё верно. Оценки пользователей, как и оценки критиков, отрицательно скошены, но распределяются вполне равномерно. При этом, можно заметить, что пользователи в большей степени склонны к импульсивным решениям - если игра им нравится, то они скорее поставят оценку 70-80 баллов, чем критики.\n",
        "\n",
        "Объясняется такая скошенность распределения отчасти человеческой психологией, а отчасти - особенностями исходных данных. \n",
        "\n",
        "Игры без продаж, как правило, являются слабо известными публике играми и не всегда корректно оцениваются фанатами, и теми кто случайно наткнулся на них. А малое количество продаж соответствует малому количеству отзывов, что делает оценку предвзятой в случае среднего балла.\n",
        "\n",
        "В случае популярных игр, популярность обеспечивает продукту большое количество продаж, а где большое количество продаж - там большое количество восторженных отзывов. У таких популярных продуктов первые отзывы, как правило, завышены благодаря ожиданиям игроков. Последующие же оценки ставятся пользователями с некоторой долей влияния уже имеющихся оценок - они помогают сформировать мнение, не сильно выделяясь из основной массы.\n",
        "\n",
        "Критики более объективно воспринимают процесс оценивания, но и им не чуждо человеческое. По этой причине, распределение оценок критиков также имеет смещение, но в области медианы там не столь большое количество значений, что приближает распределение к нормальному."
      ]
    },
    {
      "cell_type": "markdown",
      "metadata": {
        "id": "ecmR412TIqe4"
      },
      "source": [
        "# Этап 6. Проверка гипотез"
      ]
    },
    {
      "cell_type": "markdown",
      "metadata": {
        "id": "6Pku1x8HIqe5"
      },
      "source": [
        "Дополняя исследование пользовательских рейтингов, можно аналитически проверить несколько гипотез."
      ]
    },
    {
      "cell_type": "code",
      "metadata": {
        "id": "YA3aa5l4Iqe5"
      },
      "source": [
        "# Зададим пороговое значение alpha для тестов\n",
        "alpha = 0.05"
      ],
      "execution_count": null,
      "outputs": []
    },
    {
      "cell_type": "markdown",
      "metadata": {
        "id": "qcHw2QqYIqe5"
      },
      "source": [
        "## Равенство средних оценок пользователей для платформ Xbox One и PC"
      ]
    },
    {
      "cell_type": "markdown",
      "metadata": {
        "id": "oSqu-nGeIqe6"
      },
      "source": [
        "Предположим, что средние оценки пользователей одинаковы для платформ Xbox One и PC. Для этого, воспользуемся концепцией статистического вывода гипотез. \n",
        "\n",
        "В качестве **нулевой гипотезы** возьмём искомое утверждение - \"Средние оценки пользователей одинаковы для платформ XOne и PC\". Данная формулировка позволяет использовать знак равенства в атомарных утверждениях, что является базовым критерием для выбора нулевой гипотезы.  \n",
        "В качестве **альтернативной гипотезы** берётся некое противовесное предположение, которое бы использовалось в том случае, если нулевая гипотеза окажется неверной. В данном случае, оно сводится к формулировке \"Средние оценки пользователей отличаются для платформ XOne и PC\".\n",
        "\n",
        "После формулировки гипотез, можно приступать к анализу. Он осуществляется по схеме гипотезы о равенстве средних двух генеральных совокупностей. Сперва, выделим фреймы нужных данных для периода 2010-2016гг - это актуализирует результаты."
      ]
    },
    {
      "cell_type": "code",
      "metadata": {
        "id": "m2NSqHSuIqe6"
      },
      "source": [
        "# Выборка оценок пользователей для Xbox One за последние шесть лет, но с фильтрацией NaN за счёт равенства user_score\n",
        "hyp_xone = df.query('(platform == \"XOne\") and (year_of_release >= 2010) and (user_score == user_score)')['user_score']\n",
        "\n",
        "# Выборка оценок пользователей для PC за последние шесть лет, но с фильтрацией NaN за счёт равенства user_score\n",
        "hyp_pc = df.query('(platform == \"PC\") and (year_of_release >= 2010) and (user_score == user_score)')['user_score']"
      ],
      "execution_count": null,
      "outputs": []
    },
    {
      "cell_type": "markdown",
      "metadata": {
        "id": "13JXQe3lIqe6"
      },
      "source": [
        "Затем, проверим возможное равенство дисперсий выборок."
      ]
    },
    {
      "cell_type": "code",
      "metadata": {
        "id": "R3o4Ao2tIqe7",
        "outputId": "4837162c-926a-4c94-bed5-0d0da474cf59"
      },
      "source": [
        "print(f'Дисперсия для PC: {hyp_pc.var()}')\n",
        "print(f'Дисперсия для Xbox One: {hyp_xone.var()}')\n",
        "print(f'Дисперсия для PC больше чем дисперсия для XOne на {hyp_pc.var() / hyp_xone.var() - 1:.1%}')"
      ],
      "execution_count": null,
      "outputs": [
        {
          "output_type": "stream",
          "text": [
            "Дисперсия для PC: 2.450446015110894\n",
            "Дисперсия для Xbox One: 1.9069968429360695\n",
            "Дисперсия для PC больше чем дисперсия для XOne на 28.5%\n"
          ],
          "name": "stdout"
        }
      ]
    },
    {
      "cell_type": "markdown",
      "metadata": {
        "id": "M2hOVNuZIqe7"
      },
      "source": [
        "29% различия между дисперсиями. Следовательно, дисперсии выборок нельзя считать примерно равными. В анализе, параметр equal_var необходимо установить равным False."
      ]
    },
    {
      "cell_type": "code",
      "metadata": {
        "id": "X8xVW3KwIqe7",
        "outputId": "8c416000-8864-4fb7-ed4b-0a61fa4e82bc"
      },
      "source": [
        "res_xone_pc = st.ttest_ind(hyp_xone, hyp_pc, equal_var=False).pvalue\n",
        "print(f'P-уровень значимости равен {res_xone_pc}')\n",
        "\n",
        "if res_xone_pc < alpha:\n",
        "    print('Отвергаем нулевую гипотезу')\n",
        "else:\n",
        "    print('Не получилось отвергнуть нулевую гипотезу')"
      ],
      "execution_count": null,
      "outputs": [
        {
          "output_type": "stream",
          "text": [
            "P-уровень значимости равен 0.9801634129117883\n",
            "Не получилось отвергнуть нулевую гипотезу\n"
          ],
          "name": "stdout"
        }
      ]
    },
    {
      "cell_type": "markdown",
      "metadata": {
        "id": "llJu7gWwIqe7"
      },
      "source": [
        "Как видно из полученных результатов, мы не можем отвергнуть нулевую гипотезу о равенстве средних оценок для платформ Xbox One и PC - это обусловлено крайне высоким p-уровнем значимости. На примере, посмотрим средние значения для текущего периода времени."
      ]
    },
    {
      "cell_type": "code",
      "metadata": {
        "id": "xFAxPuEBIqe7",
        "outputId": "b9a80e6d-a981-447c-a7c6-66156925e4fe"
      },
      "source": [
        "print(f'Средняя оценка пользователей PC: {hyp_pc.mean()}')\n",
        "print(f'Средняя оценка пользователей Xbox One: {hyp_xone.mean()}')"
      ],
      "execution_count": null,
      "outputs": [
        {
          "output_type": "stream",
          "text": [
            "Средняя оценка пользователей PC: 6.5181818181818185\n",
            "Средняя оценка пользователей Xbox One: 6.521428571428572\n"
          ],
          "name": "stdout"
        }
      ]
    },
    {
      "cell_type": "markdown",
      "metadata": {
        "id": "9dz3H5apIqe8"
      },
      "source": [
        "Оценки за актуальный период времени действительно очень схожи, но принять предположение всё равно пока нельзя - p-уровень значимости не является достаточным условием для принятия нулевой гипотезы, его достаточно лишь для её опровержения."
      ]
    },
    {
      "cell_type": "markdown",
      "metadata": {
        "id": "W1odIXLYIqe9"
      },
      "source": [
        "## Равенство средних оценок пользователей для жанров Action и Sports"
      ]
    },
    {
      "cell_type": "markdown",
      "metadata": {
        "id": "9l7WJauaIqe9"
      },
      "source": [
        "Предположим, что средние оценки пользователей отличаются для жанров Action и Sports. Данная задача решается аналогично анализу предыдущего утверждения. \n",
        "\n",
        "В качестве **нулевой гипотезы** здесь нужно взять противовесное утверждение \"Средние оценки пользователей одинаковы для жанров Action и Sports\", так как нулевая гипотеза предполагает наличие равенства в атомарных утверждениях.  \n",
        "В качестве **альтернативной гипотезы** берётся искомое утверждение \"Средние оценки пользователей различаются для жанров Action и Sports\".\n",
        "\n",
        "После формулировки гипотез, можно приступать к анализу. Он осуществляется по схеме гипотезы о равенстве средних двух генеральных совокупностей. Сперва, выделим нужные данные в отдельные фреймы, помня о наличии пропусков и необходимости актуализировать временной период."
      ]
    },
    {
      "cell_type": "code",
      "metadata": {
        "id": "KO9xqYeIIqe9"
      },
      "source": [
        "# Выборка оценок пользователей для жанра Action за последние шесть лет, но с фильтрацией NaN за счёт равенства user_score\n",
        "hyp_action = df.query('(genre == \"Action\") and (year_of_release >= 2010) and (user_score == user_score)')['user_score']\n",
        "\n",
        "# Выборка оценок пользователей для жанра Sports за последние шесть лет, но с фильтрацией NaN за счёт равенства user_score\n",
        "hyp_sports = df.query('(genre == \"Sports\") and (year_of_release >= 2010) and (user_score == user_score)')['user_score']"
      ],
      "execution_count": null,
      "outputs": []
    },
    {
      "cell_type": "markdown",
      "metadata": {
        "id": "xASgb--nIqe9"
      },
      "source": [
        "Затем, проверим возможное равенство дисперсий выборок."
      ]
    },
    {
      "cell_type": "code",
      "metadata": {
        "id": "RXnhw0m4Iqe9",
        "outputId": "cf65f746-3c8e-4508-b8a0-3a6bd87ed7f2"
      },
      "source": [
        "print(f'Дисперсия для жанра Sports: {hyp_sports.var()}')\n",
        "print(f'Дисперсия для жанра Action: {hyp_action.var()}')\n",
        "print(f'Дисперсия для Sports больше чем дисперсия для Action на {hyp_sports.var() / hyp_action.var() - 1:.1%}')"
      ],
      "execution_count": null,
      "outputs": [
        {
          "output_type": "stream",
          "text": [
            "Дисперсия для жанра Sports: 2.8356344151248614\n",
            "Дисперсия для жанра Action: 1.8501475426606517\n",
            "Дисперсия для Sports больше чем дисперсия для Action на 53.3%\n"
          ],
          "name": "stdout"
        }
      ]
    },
    {
      "cell_type": "markdown",
      "metadata": {
        "id": "0hUbLylXIqe-"
      },
      "source": [
        "53% различия между дисперсиями. Следовательно, дисперсии выборок нельзя считать примерно равными. В анализе, параметр equal_var необходимо установить равным False."
      ]
    },
    {
      "cell_type": "code",
      "metadata": {
        "id": "v7ZoQKpOIqe-",
        "outputId": "f74714e2-e418-455f-d6ee-41bbec5107bc"
      },
      "source": [
        "res_action_sports = st.ttest_ind(hyp_action, hyp_sports, equal_var=False).pvalue\n",
        "print(f'P-уровень значимости равен {res_action_sports}')\n",
        "\n",
        "if res_action_sports < alpha:\n",
        "    print('Отвергаем нулевую гипотезу')\n",
        "else:\n",
        "    print('Не получилось отвергнуть нулевую гипотезу')"
      ],
      "execution_count": null,
      "outputs": [
        {
          "output_type": "stream",
          "text": [
            "P-уровень значимости равен 1.4516152467844418e-15\n",
            "Отвергаем нулевую гипотезу\n"
          ],
          "name": "stdout"
        }
      ]
    },
    {
      "cell_type": "markdown",
      "metadata": {
        "id": "x2kdR1PwIqe-"
      },
      "source": [
        "Полученные результаты позволяют отвергнуть нулевую гипотезу о равенстве средних оценок пользователей в жанрах Action и Sports. Следовательно, средние оценки пользователей в данных жанрах равны."
      ]
    },
    {
      "cell_type": "markdown",
      "metadata": {
        "id": "kh1OSvwFIqe_"
      },
      "source": [
        "# Этап 7. Общий вывод"
      ]
    },
    {
      "cell_type": "markdown",
      "metadata": {
        "id": "wuVzekKjIqe_"
      },
      "source": [
        "В ходе данной работы была проведена предобработка исходных данных, вместе с последующим их анализом, что позволило отработать принцип работы с данными.\n",
        "\n",
        "В ходе анализа были определены и опровергнуты некоторые гипотезы касательно закономерностей, определяющих успешность выпущенной игры. Это позволяет успешнее планировать рекламные кампании и делать ставку на потенциально популярный продукт. Так как данные анализировались для периода за последние 16 лет, и для периода за последние 6 лет, то по итогу были получены статистически значимые результаты как для прогнозирования развития платформ, так и для прогнозирования прибыльности выпускаемых игр, в контексте современного мира.  \n",
        "\n",
        "Долгосрочный анализ дал возможность установить примерный срок жизни платформы - он составил 10-11 лет.  \n",
        "Краткосрочный же анализ позволил определить самые прибыльные платформы последних шести лет - ими оказались Xbox One (XOne) и PS4. Данные платформы, на момент последнего года анализа, уже перешли на стадию постепенного падения прибылей, но ещё способны конкурировать с другими платформами. Например, с платформами 3DS, WiiU и PC. Их прибыль также падает, но всё ещё остаётся достаточно существенной для учёта данных платформ.\n",
        "\n",
        "К примеру, прибыли от продаж игр для PS4 широко варьируются в промежутка от 18 до 165 млн долларов, а у WiiU - сравнительно узкий ценовой охват с несколькими значимыми выбросами. Это значит, что хоть у WiiU разброс цен меньше, игры для PS4 продаются больше и лучше, а медианно - приносят больше выгоды.\n",
        "\n",
        "Ещё одно следствие из анализа связано с влиянием вторичных факторов на продажи. Оценки критиков имеют слабое влияние на продажи игр для PS4, и ещё меньшее - для других платформ. Оценки пользователей, несмотря на их гипотетическое духовное родство с возможным покупателем, и вовсе не оказывают значимого влияния на продажи.\n",
        "\n",
        "При этом, игровой жанр оказывает куда более значимое влияние на продажи. Так, самые популярные жанры Action, Sports и Shooter по отдельности принесли продаж больше чем непопулярные жанры Strategy, Puzzle и Adventure вместе взятые.\n",
        "\n",
        "Однако, важность жанра и платформы стоит учитывать регионально - исследование показало различия в предпочтениях между северо-американским, европейским и японским регионами. Рекомендации лучше сформулировать для каждого региона отдельно:  \n",
        "\n",
        "1) **Северо-американский регион (NA)**:  \n",
        "    - Самый прибыльный регион: максимальные продажи у X360 (595.74 млн. $), минимальные продажи у DS (380.31 млн. $);  \n",
        "    - Платформы с лучшими продажами: X360, PS2, Wii, PS3 и DS;\n",
        "    - Жанры с лучшими продажами: Action, Sports, Shooter, Misc, Role-Playing;  \n",
        "    - Возрастные категории с лучшими продажами: E, M, T, E10+;  \n",
        "2) **Европейский регион (EU)**:  \n",
        "    - Средний по прибыли регион: максимальные продажи у PS2 (332.63 млн. $), минимальные продажи у DS (188.41 млн. $);  \n",
        "    - Платформы с лучшими продажами: PS2, PS3, X360, Wii и DS;  \n",
        "    - Жанры с лучшими продажами: Action, Sports, Shooter, Misc, Racing;  \n",
        "    - Возрастные категории с лучшими продажами: E, M, T, E10+;  \n",
        "3) **Японский регион (JP)**:  \n",
        "    - Регион с самой низкой прибылью: максимальные продажи у DS (175.00 млн. $), минимальные продажи у PS3 (79.41 млн. $);  \n",
        "    - Платформы с лучшими продажами: DS, PS2, 3DS, PS3 и PSP;  \n",
        "    - Жанры с лучшими продажами: Role-Playing, Action, Misc, Sports, Platform;  \n",
        "    - Возрастные категории с лучшими продажами: E, T, M, E10+.  \n",
        "\n",
        "Дальнейшее статистическое исследование описательных характеристик оценок критиков и пользователей также выявило влияние жанра и на данную категорию. Оценки и критиков и пользователей стремятся к средней оценке в 70 баллов, со стандартным отклонением в 10-15 баллов. Но при этом, заметно предпочтение критиков жанрам Misc, Shooter и Action, а пользователей - жанрам Adventure, Strategy и Simulation. Сами же оценки в обоих случаях распределены достаточно равномерно, но с отрицательной скошенностью.\n",
        "\n",
        "Отдельно стоит выделить и проверку нескольких гипотез касательно существующих данных. Так, была опровергнута гипотеза о равенстве средних оценок пользователей для платформ Xbox One и PC - вероятность случайно получить такой результат оказалась слишком низкой. Гипотеза о неравенстве средних оценок пользователей для жанров Action и Sports также была опровергнута - в ходе решения данной задачи была обнаружена достаточно высокая (0.1..) вероятность случайно получить равенство средних оценок пользователей в этих жанрах.\n",
        "\n",
        "Таким образом, проведённое исследование позволило разносторонне проанализировать статистические данные об играх и их продажах, а также найти разнообразные закономерности между продажами игр"
      ]
    },
    {
      "cell_type": "markdown",
      "metadata": {
        "id": "cZ-baQtGIqe_"
      },
      "source": [
        "<div class=\"alert alert-success\">\n",
        "<font size=\"5\"><b>Комментарий ревьюера</b></font>\n",
        "\n",
        "Выводы описаны грамотно. Приведены ответы на главные вопросы проекта. В выводах можно приводить полученные ранее значения, правильно. Здорово, что по каждому пункту работы приведен вывод.     \n",
        "\n",
        "</div>"
      ]
    },
    {
      "cell_type": "markdown",
      "metadata": {
        "id": "-hB2UL6oIqe_"
      },
      "source": [
        "<div class=\"alert alert-success\">\n",
        "<font size=\"5\"><b>Комментарий ревьюера 2</b></font>\n",
        "\n",
        "Помарки исправлены, и теперь работа выполнена хорошо. У тебя получился крутой проект, молодец. Поздравляю со сданным проектом. Надеюсь, он был интересен и познавателен. Спасибо за столь подробные и исчерпывающие комментарии по исправлениям. Успехов в дальнейшем пути :)\n",
        "\n",
        "</div>"
      ]
    }
  ]
}